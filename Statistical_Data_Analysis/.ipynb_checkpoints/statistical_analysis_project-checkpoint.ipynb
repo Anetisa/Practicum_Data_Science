{
 "cells": [
  {
   "cell_type": "markdown",
   "id": "2a453f78",
   "metadata": {
    "toc": true
   },
   "source": [
    "<h1>Table of Contents<span class=\"tocSkip\"></span></h1>\n",
    "<div class=\"toc\"><ul class=\"toc-item\"><li><span><a href=\"#Загрузка-данных\" data-toc-modified-id=\"Загрузка-данных-1\"><span class=\"toc-item-num\">1&nbsp;&nbsp;</span>Загрузка данных</a></span></li><li><span><a href=\"#Предобработка-данных\" data-toc-modified-id=\"Предобработка-данных-2\"><span class=\"toc-item-num\">2&nbsp;&nbsp;</span>Предобработка данных</a></span><ul class=\"toc-item\"><li><span><a href=\"#Приведём-типы\" data-toc-modified-id=\"Приведём-типы-2.1\"><span class=\"toc-item-num\">2.1&nbsp;&nbsp;</span>Приведём типы</a></span></li><li><span><a href=\"#Добавим-вспомогательный-столбец\" data-toc-modified-id=\"Добавим-вспомогательный-столбец-2.2\"><span class=\"toc-item-num\">2.2&nbsp;&nbsp;</span>Добавим вспомогательный столбец</a></span></li><li><span><a href=\"#Проверим-на-дубликаты\" data-toc-modified-id=\"Проверим-на-дубликаты-2.3\"><span class=\"toc-item-num\">2.3&nbsp;&nbsp;</span>Проверим на дубликаты</a></span></li></ul></li><li><span><a href=\"#Исследовательский-анализ-данных\" data-toc-modified-id=\"Исследовательский-анализ-данных-3\"><span class=\"toc-item-num\">3&nbsp;&nbsp;</span>Исследовательский анализ данных</a></span><ul class=\"toc-item\"><li><span><a href=\"#Частота-встречаемости-городов\" data-toc-modified-id=\"Частота-встречаемости-городов-3.1\"><span class=\"toc-item-num\">3.1&nbsp;&nbsp;</span>Частота встречаемости городов</a></span></li><li><span><a href=\"#Соотношение-пользователей-с-подпиской-и-без-подписки\" data-toc-modified-id=\"Соотношение-пользователей-с-подпиской-и-без-подписки-3.2\"><span class=\"toc-item-num\">3.2&nbsp;&nbsp;</span>Соотношение пользователей с подпиской и без подписки</a></span></li><li><span><a href=\"#Возраст-пользователей\" data-toc-modified-id=\"Возраст-пользователей-3.3\"><span class=\"toc-item-num\">3.3&nbsp;&nbsp;</span>Возраст пользователей</a></span></li><li><span><a href=\"#Расстояние,-которое-пользователь-преодолел-за-одну-поездку\" data-toc-modified-id=\"Расстояние,-которое-пользователь-преодолел-за-одну-поездку-3.4\"><span class=\"toc-item-num\">3.4&nbsp;&nbsp;</span>Расстояние, которое пользователь преодолел за одну поездку</a></span></li><li><span><a href=\"#Продолжительность-поездок\" data-toc-modified-id=\"Продолжительность-поездок-3.5\"><span class=\"toc-item-num\">3.5&nbsp;&nbsp;</span>Продолжительность поездок</a></span></li><li><span><a href=\"#Выводы:\" data-toc-modified-id=\"Выводы:-3.6\"><span class=\"toc-item-num\">3.6&nbsp;&nbsp;</span>Выводы:</a></span></li></ul></li><li><span><a href=\"#Объединение-данных\" data-toc-modified-id=\"Объединение-данных-4\"><span class=\"toc-item-num\">4&nbsp;&nbsp;</span>Объединение данных</a></span><ul class=\"toc-item\"><li><span><a href=\"#Объединим-данные-о-пользователях,-поездках-и-подписках-в-один-датафрейм.\" data-toc-modified-id=\"Объединим-данные-о-пользователях,-поездках-и-подписках-в-один-датафрейм.-4.1\"><span class=\"toc-item-num\">4.1&nbsp;&nbsp;</span>Объединим данные о пользователях, поездках и подписках в один датафрейм.</a></span></li><li><span><a href=\"#Создадим-ещё-два-датафрейма\" data-toc-modified-id=\"Создадим-ещё-два-датафрейма-4.2\"><span class=\"toc-item-num\">4.2&nbsp;&nbsp;</span>Создадим ещё два датафрейма</a></span></li><li><span><a href=\"#Визуализируем-информацию-о-расстоянии-и-времени-поездок-для-пользователей-обеих-категорий.\" data-toc-modified-id=\"Визуализируем-информацию-о-расстоянии-и-времени-поездок-для-пользователей-обеих-категорий.-4.3\"><span class=\"toc-item-num\">4.3&nbsp;&nbsp;</span>Визуализируем информацию о расстоянии и времени поездок для пользователей обеих категорий.</a></span><ul class=\"toc-item\"><li><span><a href=\"#Рассмотрим-гистограммы-для-расстояния-на-которые-совершаются-поездки\" data-toc-modified-id=\"Рассмотрим-гистограммы-для-расстояния-на-которые-совершаются-поездки-4.3.1\"><span class=\"toc-item-num\">4.3.1&nbsp;&nbsp;</span>Рассмотрим гистограммы для расстояния на которые совершаются поездки</a></span></li><li><span><a href=\"#Рассмотрим-гистограммы-для-времени-которые-занимают-поездки\" data-toc-modified-id=\"Рассмотрим-гистограммы-для-времени-которые-занимают-поездки-4.3.2\"><span class=\"toc-item-num\">4.3.2&nbsp;&nbsp;</span>Рассмотрим гистограммы для времени которые занимают поездки</a></span></li></ul></li><li><span><a href=\"#Выводы:\" data-toc-modified-id=\"Выводы:-4.4\"><span class=\"toc-item-num\">4.4&nbsp;&nbsp;</span>Выводы:</a></span></li></ul></li><li><span><a href=\"#Подсчёт-выручки\" data-toc-modified-id=\"Подсчёт-выручки-5\"><span class=\"toc-item-num\">5&nbsp;&nbsp;</span>Подсчёт выручки</a></span><ul class=\"toc-item\"><li><span><a href=\"#Создадим-датафрейм-с-агрегированными-данными-о-поездках\" data-toc-modified-id=\"Создадим-датафрейм-с-агрегированными-данными-о-поездках-5.1\"><span class=\"toc-item-num\">5.1&nbsp;&nbsp;</span>Создадим датафрейм с агрегированными данными о поездках</a></span></li><li><span><a href=\"#Добавим-в-новый-датафрейм-столбец-с-помесячной-выручкой\" data-toc-modified-id=\"Добавим-в-новый-датафрейм-столбец-с-помесячной-выручкой-5.2\"><span class=\"toc-item-num\">5.2&nbsp;&nbsp;</span>Добавим в новый датафрейм столбец с помесячной выручкой</a></span></li><li><span><a href=\"#Выводы:\" data-toc-modified-id=\"Выводы:-5.3\"><span class=\"toc-item-num\">5.3&nbsp;&nbsp;</span>Выводы:</a></span></li></ul></li><li><span><a href=\"#Проверка-гипотез\" data-toc-modified-id=\"Проверка-гипотез-6\"><span class=\"toc-item-num\">6&nbsp;&nbsp;</span>Проверка гипотез</a></span><ul class=\"toc-item\"><li><span><a href=\"#Гипотеза-1\" data-toc-modified-id=\"Гипотеза-1-6.1\"><span class=\"toc-item-num\">6.1&nbsp;&nbsp;</span>Гипотеза 1</a></span></li><li><span><a href=\"#Гипотеза-2\" data-toc-modified-id=\"Гипотеза-2-6.2\"><span class=\"toc-item-num\">6.2&nbsp;&nbsp;</span>Гипотеза 2</a></span></li><li><span><a href=\"#Гипотеза-3\" data-toc-modified-id=\"Гипотеза-3-6.3\"><span class=\"toc-item-num\">6.3&nbsp;&nbsp;</span>Гипотеза 3</a></span></li><li><span><a href=\"#Гипотеза-4\" data-toc-modified-id=\"Гипотеза-4-6.4\"><span class=\"toc-item-num\">6.4&nbsp;&nbsp;</span>Гипотеза 4</a></span></li></ul></li><li><span><a href=\"#Распределения\" data-toc-modified-id=\"Распределения-7\"><span class=\"toc-item-num\">7&nbsp;&nbsp;</span>Распределения</a></span><ul class=\"toc-item\"><li><span><a href=\"#Задача-1\" data-toc-modified-id=\"Задача-1-7.1\"><span class=\"toc-item-num\">7.1&nbsp;&nbsp;</span>Задача 1</a></span></li><li><span><a href=\"#Задача-2\" data-toc-modified-id=\"Задача-2-7.2\"><span class=\"toc-item-num\">7.2&nbsp;&nbsp;</span>Задача 2</a></span></li></ul></li><li><span><a href=\"#Общий-вывод\" data-toc-modified-id=\"Общий-вывод-8\"><span class=\"toc-item-num\">8&nbsp;&nbsp;</span>Общий вывод</a></span></li></ul></div>"
   ]
  },
  {
   "cell_type": "markdown",
   "id": "2079004f",
   "metadata": {},
   "source": [
    "# Проект: Статистический анализ данных\n",
    "\n",
    "**Формулировка задачи:**\n",
    "Вы аналитик популярного сервиса аренды самокатов GoFast. Вам передали данные о некоторых пользователях из нескольких городов, а также об их поездках. Проанализируйте данные и проверьте некоторые гипотезы, которые могут помочь бизнесу вырасти.\n",
    "\n",
    "Чтобы совершать поездки по городу, пользователи сервиса GoFast пользуются мобильным приложением. Сервисом можно пользоваться:\n",
    "- без подписки\n",
    "    - абонентская плата отсутствует;\n",
    "    - стоимость одной минуты поездки — 8 рублей;\n",
    "    - стоимость старта (начала поездки) — 50 рублей;\n",
    "- с подпиской Ultra\n",
    "    - абонентская плата — 199 рублей в месяц;\n",
    "    - стоимость одной минуты поездки — 6 рублей;\n",
    "    - стоимость старта — бесплатно.\n",
    "    \n",
    "**Описание данных:**\n",
    "- Пользователи: (users_go.csv')\n",
    "    - `user_id` - уникальный идентификатор пользователя \n",
    "    - `name` - имя пользователя \n",
    "    - `age` - возраст \n",
    "    - `city` - город \n",
    "    - `subscription_type` - тип подписки (free, ultra) \n",
    " \n",
    "- Поездки: (rides_go.csv)\n",
    "    - `user_id` - уникальный идентификатор пользователя \n",
    "    - `distance` - расстояние, которое пользователь проехал в текущей сессии (в метрах) \n",
    "    - `duration` - продолжительность сессии (в минутах) — время с того момента, как пользователь нажал кнопку «Начать поездку» до момента, как он нажал кнопку «Завершить поездку» \n",
    "    - `date`- дата совершения поездки \n",
    "\n",
    "- Подписки: (subscriptions_go.csv)\n",
    "    - `subscription_type` - тип подписки \n",
    "    - `minute_price` - стоимость одной минуты поездки по данной подписке \n",
    "    - `start_ride_price` - стоимость начала поездки \n",
    "    - `subscription_fee` - стоимость ежемесячного платежа \n",
    "    \n",
    "    \n",
    "**Цель исследования:**\n",
    "1. Посчитать и проанализировать выручку компании.\n",
    "2. Проанализируйте данные и проверьте некоторые гипотезы, которые могут помочь бизнесу вырасти.\n",
    "\n",
    "**Ход исследования:**\n",
    "\n",
    "Данные для исследования получи из 3 файлов: `/datasets/users_go.csv`, `/datasets/rides_go.csv`, `/datasets/subscriptions_go.csv`.  \n",
    "О качестве данных нам ничего не известно, поэтому изучим и проанализируем переданные нам данные.    \n",
    "        \n",
    "Нужно будет проверить данные на корректность, пропуски и дубликаты. Проверим можно ли исправить ошибки данных не искажая интересующие нас результаты. Далее, добавим необходимые столбцы, сформирум необходимые датафреймы и приступим к проведению исследовательского анализа и подсчёта выручки.    \n",
    "       \n",
    "После проведения анализа и построения графиков для визуализации интересущих нас данных, сформулируем и проверим некоторые гипотезы, которые могут помочь бизнесу.    \n",
    "       \n",
    "Основное исследование пройдёт в 7 этапов:  \n",
    "- Загрузка и обзор данных.\n",
    "- Предобработка данных.\n",
    "- Исследовательский анализ данных.\n",
    "- Объединение данных и визуализация информации.\n",
    "- Подсчёт выручки.\n",
    "- Проверка гипотез.\n",
    "- Написание вывода."
   ]
  },
  {
   "cell_type": "code",
   "execution_count": 1,
   "id": "51d2bb94",
   "metadata": {},
   "outputs": [],
   "source": [
    "#импортируем библиотеки\n",
    "import pandas as pd\n",
    "import matplotlib.pyplot as plt\n",
    "import numpy as np\n",
    "import seaborn as sns\n",
    "from math import sqrt\n",
    "from math import factorial\n",
    "from scipy import stats as st\n",
    "from scipy.stats import binom, norm"
   ]
  },
  {
   "cell_type": "markdown",
   "id": "4dcdc8ed",
   "metadata": {},
   "source": [
    "### Загрузка данных\n",
    "\n",
    "Загрузим данные из csv-файлов в датафреймы c помощью библиотеки pandas и выведем первые 5 строк таблиц."
   ]
  },
  {
   "cell_type": "code",
   "execution_count": 2,
   "id": "16696482",
   "metadata": {},
   "outputs": [
    {
     "data": {
      "text/html": [
       "<div>\n",
       "<style scoped>\n",
       "    .dataframe tbody tr th:only-of-type {\n",
       "        vertical-align: middle;\n",
       "    }\n",
       "\n",
       "    .dataframe tbody tr th {\n",
       "        vertical-align: top;\n",
       "    }\n",
       "\n",
       "    .dataframe thead th {\n",
       "        text-align: right;\n",
       "    }\n",
       "</style>\n",
       "<table border=\"1\" class=\"dataframe\">\n",
       "  <thead>\n",
       "    <tr style=\"text-align: right;\">\n",
       "      <th></th>\n",
       "      <th>user_id</th>\n",
       "      <th>name</th>\n",
       "      <th>age</th>\n",
       "      <th>city</th>\n",
       "      <th>subscription_type</th>\n",
       "    </tr>\n",
       "  </thead>\n",
       "  <tbody>\n",
       "    <tr>\n",
       "      <th>0</th>\n",
       "      <td>1</td>\n",
       "      <td>Кира</td>\n",
       "      <td>22</td>\n",
       "      <td>Тюмень</td>\n",
       "      <td>ultra</td>\n",
       "    </tr>\n",
       "    <tr>\n",
       "      <th>1</th>\n",
       "      <td>2</td>\n",
       "      <td>Станислав</td>\n",
       "      <td>31</td>\n",
       "      <td>Омск</td>\n",
       "      <td>ultra</td>\n",
       "    </tr>\n",
       "    <tr>\n",
       "      <th>2</th>\n",
       "      <td>3</td>\n",
       "      <td>Алексей</td>\n",
       "      <td>20</td>\n",
       "      <td>Москва</td>\n",
       "      <td>ultra</td>\n",
       "    </tr>\n",
       "    <tr>\n",
       "      <th>3</th>\n",
       "      <td>4</td>\n",
       "      <td>Константин</td>\n",
       "      <td>26</td>\n",
       "      <td>Ростов-на-Дону</td>\n",
       "      <td>ultra</td>\n",
       "    </tr>\n",
       "    <tr>\n",
       "      <th>4</th>\n",
       "      <td>5</td>\n",
       "      <td>Адель</td>\n",
       "      <td>28</td>\n",
       "      <td>Омск</td>\n",
       "      <td>ultra</td>\n",
       "    </tr>\n",
       "  </tbody>\n",
       "</table>\n",
       "</div>"
      ],
      "text/plain": [
       "   user_id        name  age            city subscription_type\n",
       "0        1        Кира   22          Тюмень             ultra\n",
       "1        2   Станислав   31            Омск             ultra\n",
       "2        3     Алексей   20          Москва             ultra\n",
       "3        4  Константин   26  Ростов-на-Дону             ultra\n",
       "4        5       Адель   28            Омск             ultra"
      ]
     },
     "execution_count": 2,
     "metadata": {},
     "output_type": "execute_result"
    }
   ],
   "source": [
    "try:\n",
    "    users_data = pd.read_csv('/datasets/users_go.csv')\n",
    "except: \n",
    "    users_data = pd.read_csv('/home/anna/Courses/Data_Science(Yandex)/T4_StatisticalAnalysis/Project4/users_go.csv' , sep=',')\n",
    "\n",
    "users_data.head(5)"
   ]
  },
  {
   "cell_type": "code",
   "execution_count": 3,
   "id": "6362302d",
   "metadata": {},
   "outputs": [
    {
     "data": {
      "text/html": [
       "<div>\n",
       "<style scoped>\n",
       "    .dataframe tbody tr th:only-of-type {\n",
       "        vertical-align: middle;\n",
       "    }\n",
       "\n",
       "    .dataframe tbody tr th {\n",
       "        vertical-align: top;\n",
       "    }\n",
       "\n",
       "    .dataframe thead th {\n",
       "        text-align: right;\n",
       "    }\n",
       "</style>\n",
       "<table border=\"1\" class=\"dataframe\">\n",
       "  <thead>\n",
       "    <tr style=\"text-align: right;\">\n",
       "      <th></th>\n",
       "      <th>user_id</th>\n",
       "      <th>distance</th>\n",
       "      <th>duration</th>\n",
       "      <th>date</th>\n",
       "    </tr>\n",
       "  </thead>\n",
       "  <tbody>\n",
       "    <tr>\n",
       "      <th>0</th>\n",
       "      <td>1</td>\n",
       "      <td>4409.919140</td>\n",
       "      <td>25.599769</td>\n",
       "      <td>2021-01-01</td>\n",
       "    </tr>\n",
       "    <tr>\n",
       "      <th>1</th>\n",
       "      <td>1</td>\n",
       "      <td>2617.592153</td>\n",
       "      <td>15.816871</td>\n",
       "      <td>2021-01-18</td>\n",
       "    </tr>\n",
       "    <tr>\n",
       "      <th>2</th>\n",
       "      <td>1</td>\n",
       "      <td>754.159807</td>\n",
       "      <td>6.232113</td>\n",
       "      <td>2021-04-20</td>\n",
       "    </tr>\n",
       "    <tr>\n",
       "      <th>3</th>\n",
       "      <td>1</td>\n",
       "      <td>2694.783254</td>\n",
       "      <td>18.511000</td>\n",
       "      <td>2021-08-11</td>\n",
       "    </tr>\n",
       "    <tr>\n",
       "      <th>4</th>\n",
       "      <td>1</td>\n",
       "      <td>4028.687306</td>\n",
       "      <td>26.265803</td>\n",
       "      <td>2021-08-28</td>\n",
       "    </tr>\n",
       "  </tbody>\n",
       "</table>\n",
       "</div>"
      ],
      "text/plain": [
       "   user_id     distance   duration        date\n",
       "0        1  4409.919140  25.599769  2021-01-01\n",
       "1        1  2617.592153  15.816871  2021-01-18\n",
       "2        1   754.159807   6.232113  2021-04-20\n",
       "3        1  2694.783254  18.511000  2021-08-11\n",
       "4        1  4028.687306  26.265803  2021-08-28"
      ]
     },
     "execution_count": 3,
     "metadata": {},
     "output_type": "execute_result"
    }
   ],
   "source": [
    "try:\n",
    "    rides_data = pd.read_csv('/datasets/rides_go.csv',)\n",
    "except:\n",
    "    rides_data = pd.read_csv('/home/anna/Courses/Data_Science(Yandex)/T4_StatisticalAnalysis/Project4/rides_go.csv' , sep=',')\n",
    "\n",
    "rides_data.head(5)"
   ]
  },
  {
   "cell_type": "code",
   "execution_count": 4,
   "id": "48c258f7",
   "metadata": {},
   "outputs": [
    {
     "data": {
      "text/html": [
       "<div>\n",
       "<style scoped>\n",
       "    .dataframe tbody tr th:only-of-type {\n",
       "        vertical-align: middle;\n",
       "    }\n",
       "\n",
       "    .dataframe tbody tr th {\n",
       "        vertical-align: top;\n",
       "    }\n",
       "\n",
       "    .dataframe thead th {\n",
       "        text-align: right;\n",
       "    }\n",
       "</style>\n",
       "<table border=\"1\" class=\"dataframe\">\n",
       "  <thead>\n",
       "    <tr style=\"text-align: right;\">\n",
       "      <th></th>\n",
       "      <th>subscription_type</th>\n",
       "      <th>minute_price</th>\n",
       "      <th>start_ride_price</th>\n",
       "      <th>subscription_fee</th>\n",
       "    </tr>\n",
       "  </thead>\n",
       "  <tbody>\n",
       "    <tr>\n",
       "      <th>0</th>\n",
       "      <td>free</td>\n",
       "      <td>8</td>\n",
       "      <td>50</td>\n",
       "      <td>0</td>\n",
       "    </tr>\n",
       "    <tr>\n",
       "      <th>1</th>\n",
       "      <td>ultra</td>\n",
       "      <td>6</td>\n",
       "      <td>0</td>\n",
       "      <td>199</td>\n",
       "    </tr>\n",
       "  </tbody>\n",
       "</table>\n",
       "</div>"
      ],
      "text/plain": [
       "  subscription_type  minute_price  start_ride_price  subscription_fee\n",
       "0              free             8                50                 0\n",
       "1             ultra             6                 0               199"
      ]
     },
     "execution_count": 4,
     "metadata": {},
     "output_type": "execute_result"
    }
   ],
   "source": [
    "try:\n",
    "    scrp_data = pd.read_csv('/datasets/subscriptions_go.csv', sep=',')\n",
    "except:\n",
    "    scrp_data = pd.read_csv('/home/anna/Courses/Data_Science(Yandex)/T4_StatisticalAnalysis/Project4/subscriptions_go.csv' , sep=',')\n",
    "\n",
    "scrp_data.head(5)"
   ]
  },
  {
   "cell_type": "markdown",
   "id": "f776f5c6",
   "metadata": {},
   "source": [
    "Изучим информацию о столбцах датафреймов, посмотри сколько пустых значений и какие типы используются "
   ]
  },
  {
   "cell_type": "code",
   "execution_count": 5,
   "id": "7c1394fd",
   "metadata": {},
   "outputs": [
    {
     "name": "stdout",
     "output_type": "stream",
     "text": [
      "<class 'pandas.core.frame.DataFrame'>\n",
      "RangeIndex: 1565 entries, 0 to 1564\n",
      "Data columns (total 5 columns):\n",
      " #   Column             Non-Null Count  Dtype \n",
      "---  ------             --------------  ----- \n",
      " 0   user_id            1565 non-null   int64 \n",
      " 1   name               1565 non-null   object\n",
      " 2   age                1565 non-null   int64 \n",
      " 3   city               1565 non-null   object\n",
      " 4   subscription_type  1565 non-null   object\n",
      "dtypes: int64(2), object(3)\n",
      "memory usage: 61.3+ KB\n"
     ]
    }
   ],
   "source": [
    "users_data.info()"
   ]
  },
  {
   "cell_type": "code",
   "execution_count": 6,
   "id": "661c6832",
   "metadata": {},
   "outputs": [
    {
     "name": "stdout",
     "output_type": "stream",
     "text": [
      "<class 'pandas.core.frame.DataFrame'>\n",
      "RangeIndex: 18068 entries, 0 to 18067\n",
      "Data columns (total 4 columns):\n",
      " #   Column    Non-Null Count  Dtype  \n",
      "---  ------    --------------  -----  \n",
      " 0   user_id   18068 non-null  int64  \n",
      " 1   distance  18068 non-null  float64\n",
      " 2   duration  18068 non-null  float64\n",
      " 3   date      18068 non-null  object \n",
      "dtypes: float64(2), int64(1), object(1)\n",
      "memory usage: 564.8+ KB\n"
     ]
    }
   ],
   "source": [
    "rides_data.info()"
   ]
  },
  {
   "cell_type": "code",
   "execution_count": 7,
   "id": "78003476",
   "metadata": {},
   "outputs": [
    {
     "name": "stdout",
     "output_type": "stream",
     "text": [
      "<class 'pandas.core.frame.DataFrame'>\n",
      "RangeIndex: 2 entries, 0 to 1\n",
      "Data columns (total 4 columns):\n",
      " #   Column             Non-Null Count  Dtype \n",
      "---  ------             --------------  ----- \n",
      " 0   subscription_type  2 non-null      object\n",
      " 1   minute_price       2 non-null      int64 \n",
      " 2   start_ride_price   2 non-null      int64 \n",
      " 3   subscription_fee   2 non-null      int64 \n",
      "dtypes: int64(3), object(1)\n",
      "memory usage: 192.0+ bytes\n"
     ]
    }
   ],
   "source": [
    "scrp_data.info()"
   ]
  },
  {
   "cell_type": "code",
   "execution_count": 8,
   "id": "f708d29d",
   "metadata": {},
   "outputs": [
    {
     "name": "stdout",
     "output_type": "stream",
     "text": [
      "Количество записей в users_data: 1565\n",
      "Количество записей в rides_data: 18068\n",
      "Количество записей в scrp_data: 2\n"
     ]
    }
   ],
   "source": [
    "print('Количество записей в users_data:', users_data.shape[0])\n",
    "print('Количество записей в rides_data:', rides_data.shape[0])\n",
    "print('Количество записей в scrp_data:', scrp_data.shape[0])"
   ]
  },
  {
   "cell_type": "markdown",
   "id": "d5ec316d",
   "metadata": {},
   "source": [
    "**Выводы:**\n",
    "- Данные выгруженаются корректно\n",
    "- Видна необходимость в 'rides_data' поменять тип столбца `date`\n",
    "- Пропущеных значений не обнаружено"
   ]
  },
  {
   "cell_type": "markdown",
   "id": "a64e00bd",
   "metadata": {},
   "source": [
    "### Предобработка данных\n",
    "\n",
    "#### Приведём типы\n",
    "\n",
    "Из таблицы 'rides_data' приведём столбец `date` из object  к типу даты "
   ]
  },
  {
   "cell_type": "code",
   "execution_count": 9,
   "id": "e80f930f",
   "metadata": {},
   "outputs": [],
   "source": [
    "rides_data['date'] = pd.to_datetime(rides_data['date'], format='%Y-%m-%d')"
   ]
  },
  {
   "cell_type": "markdown",
   "id": "20d448da",
   "metadata": {},
   "source": [
    "#### Добавим вспомогательный столбец\n",
    "\n",
    "Создадим новый столбец с номером месяца на основе столбца date."
   ]
  },
  {
   "cell_type": "code",
   "execution_count": 10,
   "id": "c897d3dc",
   "metadata": {},
   "outputs": [],
   "source": [
    "rides_data['month_date'] = rides_data['date'].dt.month"
   ]
  },
  {
   "cell_type": "markdown",
   "id": "4bf50e60",
   "metadata": {},
   "source": [
    "Если мы будем собирать данные по месяцам нам также понадобится информация о годе, так как один и тот же номер месяца может встречаться в разные годы и мы не сможем говорить о расстоянии, финансах и времени затраченном за один месяц.       \n",
    "   \n",
    "Создадим новый столбец с номером года на основе столбца date."
   ]
  },
  {
   "cell_type": "code",
   "execution_count": 11,
   "id": "1cd76529",
   "metadata": {},
   "outputs": [],
   "source": [
    "rides_data['year_date'] = rides_data['date'].dt.year"
   ]
  },
  {
   "cell_type": "markdown",
   "id": "7095ff92",
   "metadata": {},
   "source": [
    "Посмотрим по скольким годам у нас собраны данные в датасете."
   ]
  },
  {
   "cell_type": "code",
   "execution_count": 12,
   "id": "fded9c9b",
   "metadata": {},
   "outputs": [
    {
     "name": "stdout",
     "output_type": "stream",
     "text": [
      "Года по которым собраны данные: [2021]\n"
     ]
    }
   ],
   "source": [
    "print('Года по которым собраны данные:',rides_data['year_date'].unique())"
   ]
  },
  {
   "cell_type": "markdown",
   "id": "53c1768b",
   "metadata": {},
   "source": [
    "В датафрейме представлены данные только по одному году, поэтому в дальнейшем мы можем игнорировать значение года и анализировать информацию по месяцам."
   ]
  },
  {
   "cell_type": "markdown",
   "id": "882e3f8b",
   "metadata": {},
   "source": [
    "#### Проверим на дубликаты\n",
    "\n",
    "Проверим наличие пропущенных значений и дубликатов во всех 3 датафреймах."
   ]
  },
  {
   "cell_type": "code",
   "execution_count": 13,
   "id": "01c147de",
   "metadata": {},
   "outputs": [
    {
     "name": "stdout",
     "output_type": "stream",
     "text": [
      "Количество явных дубликатов в : users_go 31\n",
      "Количество явных дубликатов в rides_go:  0\n",
      "Количество явных дубликатов в subscriptions_go:  0\n"
     ]
    }
   ],
   "source": [
    "print('Количество явных дубликатов в : users_go', users_data.duplicated().sum())\n",
    "print('Количество явных дубликатов в rides_go: ', rides_data.duplicated().sum())\n",
    "print('Количество явных дубликатов в subscriptions_go: ', scrp_data.duplicated().sum())"
   ]
  },
  {
   "cell_type": "markdown",
   "id": "dfb6cabe",
   "metadata": {},
   "source": [
    "Явные дубликаты есть только в одном датафрейме `users_date`"
   ]
  },
  {
   "cell_type": "code",
   "execution_count": 14,
   "id": "f8e17dbf",
   "metadata": {},
   "outputs": [
    {
     "data": {
      "text/plain": [
       "31"
      ]
     },
     "execution_count": 14,
     "metadata": {},
     "output_type": "execute_result"
    }
   ],
   "source": [
    "users_data['user_id'].duplicated().sum()"
   ]
  },
  {
   "cell_type": "markdown",
   "id": "459cf32a",
   "metadata": {},
   "source": [
    "Видим, что поиск дубликатов по всем столбца совпадает с числом дубликатов по столбцу с индентификационным номером пользователя. Поэтому даже не нужно проводить изменения в именах пользователей для поисков неявных дубликатов. "
   ]
  },
  {
   "cell_type": "code",
   "execution_count": 15,
   "id": "376124af",
   "metadata": {},
   "outputs": [
    {
     "name": "stdout",
     "output_type": "stream",
     "text": [
      "Количество явных дубликатов в : users_go 0\n"
     ]
    }
   ],
   "source": [
    "users_data = users_data.drop_duplicates(subset=['user_id'], keep='first')\n",
    "print('Количество явных дубликатов в : users_go', users_data.duplicated().sum())"
   ]
  },
  {
   "cell_type": "code",
   "execution_count": 16,
   "id": "7d15fe3c",
   "metadata": {},
   "outputs": [
    {
     "name": "stdout",
     "output_type": "stream",
     "text": [
      "Количество записей в users_data после удаления дубликатов: 1534\n"
     ]
    }
   ],
   "source": [
    "print('Количество записей в users_data после удаления дубликатов:', users_data.shape[0])"
   ]
  },
  {
   "cell_type": "code",
   "execution_count": 17,
   "id": "31b024b0",
   "metadata": {},
   "outputs": [
    {
     "data": {
      "text/plain": [
       "user_id              0\n",
       "name                 0\n",
       "age                  0\n",
       "city                 0\n",
       "subscription_type    0\n",
       "dtype: int64"
      ]
     },
     "execution_count": 17,
     "metadata": {},
     "output_type": "execute_result"
    }
   ],
   "source": [
    "#Методом isna() найдём кол-во строк с пропусками для каждого столбца\n",
    "users_data.isna().sum()"
   ]
  },
  {
   "cell_type": "code",
   "execution_count": 18,
   "id": "5c922d7e",
   "metadata": {},
   "outputs": [
    {
     "data": {
      "text/plain": [
       "user_id       0\n",
       "distance      0\n",
       "duration      0\n",
       "date          0\n",
       "month_date    0\n",
       "year_date     0\n",
       "dtype: int64"
      ]
     },
     "execution_count": 18,
     "metadata": {},
     "output_type": "execute_result"
    }
   ],
   "source": [
    "rides_data.isna().sum()"
   ]
  },
  {
   "cell_type": "code",
   "execution_count": 19,
   "id": "4dbe0dad",
   "metadata": {},
   "outputs": [
    {
     "data": {
      "text/plain": [
       "user_id       0\n",
       "distance      0\n",
       "duration      0\n",
       "date          0\n",
       "month_date    0\n",
       "year_date     0\n",
       "dtype: int64"
      ]
     },
     "execution_count": 19,
     "metadata": {},
     "output_type": "execute_result"
    }
   ],
   "source": [
    "rides_data.isna().sum()"
   ]
  },
  {
   "cell_type": "code",
   "execution_count": 20,
   "id": "dafc5357",
   "metadata": {},
   "outputs": [
    {
     "data": {
      "text/plain": [
       "subscription_type    0\n",
       "minute_price         0\n",
       "start_ride_price     0\n",
       "subscription_fee     0\n",
       "dtype: int64"
      ]
     },
     "execution_count": 20,
     "metadata": {},
     "output_type": "execute_result"
    }
   ],
   "source": [
    "scrp_data.isna().sum()"
   ]
  },
  {
   "cell_type": "markdown",
   "id": "6531afe2",
   "metadata": {},
   "source": [
    "**Выводы:**\n",
    "- Изменили тип данных object на datetime для даты совершения поездки \n",
    "- Пропущенных значений во всех 3-х датафреймах не обнаружено \n",
    "- Были удалены дубликаты из датафрейма с информацией о пользователях\n",
    "- Информация в датафрейме собрана только по 2021 году."
   ]
  },
  {
   "cell_type": "markdown",
   "id": "db91b60c",
   "metadata": {},
   "source": [
    "### Исследовательский анализ данных\n",
    "\n",
    "Опишем и визуализируем общую информацию о пользователях и поездках:\n",
    "- частота встречаемости городов;\n",
    "- соотношение пользователей с подпиской и без подписки;\n",
    "- возраст пользователей;\n",
    "- расстояние, которое пользователь преодолел за одну поездку;\n",
    "- продолжительность поездок."
   ]
  },
  {
   "cell_type": "markdown",
   "id": "2b18469f",
   "metadata": {},
   "source": [
    "#### Частота встречаемости городов\n",
    "\n",
    "Изучим пользователи в каких городах `city` нам даны для анализа."
   ]
  },
  {
   "cell_type": "code",
   "execution_count": 21,
   "id": "4205c406",
   "metadata": {},
   "outputs": [
    {
     "data": {
      "text/plain": [
       "Пятигорск         219\n",
       "Екатеринбург      204\n",
       "Ростов-на-Дону    198\n",
       "Краснодар         193\n",
       "Сочи              189\n",
       "Омск              183\n",
       "Тюмень            180\n",
       "Москва            168\n",
       "Name: city, dtype: int64"
      ]
     },
     "execution_count": 21,
     "metadata": {},
     "output_type": "execute_result"
    }
   ],
   "source": [
    "#users_data.groupby('city')\n",
    "users_data['city'].value_counts()"
   ]
  },
  {
   "cell_type": "markdown",
   "id": "a099f00f",
   "metadata": {},
   "source": [
    "Нам дана информация по пользователям из 8 городов."
   ]
  },
  {
   "cell_type": "code",
   "execution_count": 22,
   "id": "344ed1f7",
   "metadata": {},
   "outputs": [
    {
     "data": {
      "image/png": "[encoded data removed]",
      "text/plain": [
       "<Figure size 640x480 with 1 Axes>"
      ]
     },
     "metadata": {},
     "output_type": "display_data"
    }
   ],
   "source": [
    "city_data = users_data.groupby('city')['user_id'].count()\n",
    "city_data.plot(\n",
    "    y='count', \n",
    "    autopct='%1.1f%%', \n",
    "    kind='pie', \n",
    "    legend=False, \n",
    "    ylabel='', \n",
    "    title='Доли пользователей по городам:'\n",
    ");"
   ]
  },
  {
   "cell_type": "markdown",
   "id": "abb335b5",
   "metadata": {},
   "source": [
    "Категорий много, поэтому отобразим столбчатую диаграмму отображающую кол-во пользователей по городам."
   ]
  },
  {
   "cell_type": "code",
   "execution_count": 23,
   "id": "3c58498b",
   "metadata": {},
   "outputs": [
    {
     "data": {
      "image/png": "[encoded data removed]",
      "text/plain": [
       "<Figure size 640x480 with 1 Axes>"
      ]
     },
     "metadata": {},
     "output_type": "display_data"
    }
   ],
   "source": [
    "city_data.plot(\n",
    "    y='count', \n",
    "    kind='bar', \n",
    "    legend=False, \n",
    "    ylabel='', \n",
    "    title='Количество пользователей пользователей по городам:'\n",
    ");"
   ]
  },
  {
   "cell_type": "markdown",
   "id": "0885c63f",
   "metadata": {},
   "source": [
    "- Доли пользователей между городами распределены хоть и не на равные части, но их размеры не далеки друг от друга.  \n",
    "- Самая большая доля пользователей из Пятигорска.  \n",
    "- Самая маленькая доля пользователей из Москвы.\n",
    "\n",
    "#### Соотношение пользователей с подпиской и без подписки"
   ]
  },
  {
   "cell_type": "code",
   "execution_count": 24,
   "id": "956882c2",
   "metadata": {},
   "outputs": [
    {
     "data": {
      "image/png": "[encoded data removed]",
      "text/plain": [
       "<Figure size 640x480 with 1 Axes>"
      ]
     },
     "metadata": {},
     "output_type": "display_data"
    }
   ],
   "source": [
    "ss_data = users_data.groupby('subscription_type')['user_id'].count()\n",
    "ss_data.plot(\n",
    "    y='count', \n",
    "    autopct='%1.1f%%', \n",
    "    kind='pie', \n",
    "    explode=[0.03, 0.03],\n",
    "    shadow=True, \n",
    "    legend=False, \n",
    "    ylabel='', \n",
    "    title='Соотношение пользователей с подпиской и без подписки'\n",
    ");"
   ]
  },
  {
   "cell_type": "markdown",
   "id": "bdd72b7c",
   "metadata": {},
   "source": [
    "- Доля пользователей с без подписки превышает долю пользователей с подпиской 'ultra' на 8.8%\n",
    "\n",
    "#### Возраст пользователей"
   ]
  },
  {
   "cell_type": "code",
   "execution_count": 25,
   "id": "7145ca2b",
   "metadata": {},
   "outputs": [
    {
     "data": {
      "text/html": [
       "<div>\n",
       "<style scoped>\n",
       "    .dataframe tbody tr th:only-of-type {\n",
       "        vertical-align: middle;\n",
       "    }\n",
       "\n",
       "    .dataframe tbody tr th {\n",
       "        vertical-align: top;\n",
       "    }\n",
       "\n",
       "    .dataframe thead th {\n",
       "        text-align: right;\n",
       "    }\n",
       "</style>\n",
       "<table border=\"1\" class=\"dataframe\">\n",
       "  <thead>\n",
       "    <tr style=\"text-align: right;\">\n",
       "      <th></th>\n",
       "      <th>user_id</th>\n",
       "    </tr>\n",
       "    <tr>\n",
       "      <th>age</th>\n",
       "      <th></th>\n",
       "    </tr>\n",
       "  </thead>\n",
       "  <tbody>\n",
       "    <tr>\n",
       "      <th>12</th>\n",
       "      <td>4</td>\n",
       "    </tr>\n",
       "    <tr>\n",
       "      <th>13</th>\n",
       "      <td>8</td>\n",
       "    </tr>\n",
       "    <tr>\n",
       "      <th>14</th>\n",
       "      <td>9</td>\n",
       "    </tr>\n",
       "    <tr>\n",
       "      <th>15</th>\n",
       "      <td>13</td>\n",
       "    </tr>\n",
       "    <tr>\n",
       "      <th>16</th>\n",
       "      <td>19</td>\n",
       "    </tr>\n",
       "  </tbody>\n",
       "</table>\n",
       "</div>"
      ],
      "text/plain": [
       "     user_id\n",
       "age         \n",
       "12         4\n",
       "13         8\n",
       "14         9\n",
       "15        13\n",
       "16        19"
      ]
     },
     "execution_count": 25,
     "metadata": {},
     "output_type": "execute_result"
    }
   ],
   "source": [
    "age_data = users_data.pivot_table(index='age', values='user_id', aggfunc='count').sort_values(by='age', ascending=True)\n",
    "age_data.head(5)"
   ]
  },
  {
   "cell_type": "code",
   "execution_count": 26,
   "id": "c5ab370b",
   "metadata": {},
   "outputs": [
    {
     "name": "stdout",
     "output_type": "stream",
     "text": [
      "Минимальный возраст пользователей: 12\n",
      "Максимальный возраст пользователей: 43\n"
     ]
    },
    {
     "data": {
      "image/png": "[encoded data removed]",
      "text/plain": [
       "<Figure size 640x480 with 1 Axes>"
      ]
     },
     "metadata": {},
     "output_type": "display_data"
    }
   ],
   "source": [
    "print('Минимальный возраст пользователей:', users_data['age'].min())\n",
    "print('Максимальный возраст пользователей:', users_data['age'].max())\n",
    "age_data.plot(\n",
    "    style='o-', \n",
    "    ylabel='кол-во пользователей',  \n",
    "    xlabel='возраст', \n",
    "    grid=True, \n",
    "    legend=False, \n",
    "    title='Возраст пользователей'\n",
    ");"
   ]
  },
  {
   "cell_type": "code",
   "execution_count": 27,
   "id": "003eea25",
   "metadata": {},
   "outputs": [
    {
     "data": {
      "image/png": "[encoded data removed]",
      "text/plain": [
       "<Figure size 640x480 with 1 Axes>"
      ]
     },
     "metadata": {},
     "output_type": "display_data"
    }
   ],
   "source": [
    "#Отобразим боксплот для возраста пользователей\n",
    "users_data.boxplot(column=['age']);"
   ]
  },
  {
   "cell_type": "markdown",
   "id": "19e7878f",
   "metadata": {},
   "source": [
    "- Самое большое кол-во пользователей возрастом около 25 лет.\n",
    "- Кол-во пользователей начиная с минимального возраста (12 лет) вместе с возрастанием возраста увеличивается и достигает максимума в 25, после чего идёт на спад.\n",
    "\n",
    "\n",
    "####  Расстояние, которое пользователь преодолел за одну поездку\n",
    "\n",
    "`distance` - расстояние, которое пользователь проехал в текущей сессии (в метрах) "
   ]
  },
  {
   "cell_type": "code",
   "execution_count": 28,
   "id": "8548d9c2",
   "metadata": {},
   "outputs": [
    {
     "data": {
      "image/png": "[encoded data removed]",
      "text/plain": [
       "<Figure size 640x480 with 1 Axes>"
      ]
     },
     "metadata": {},
     "output_type": "display_data"
    }
   ],
   "source": [
    "rides_data['distance'].hist(bins = 120, grid=True)\n",
    "plt.xlabel(\"расстояние в метрах\")\n",
    "plt.ylabel(\"кол-во сессий\")\n",
    "plt.title(\"Расстояния которые пользователи проезжают за одну сессию\");"
   ]
  },
  {
   "cell_type": "code",
   "execution_count": 29,
   "id": "b65a428c",
   "metadata": {},
   "outputs": [
    {
     "data": {
      "image/png": "[encoded data removed]",
      "text/plain": [
       "<Figure size 640x480 with 1 Axes>"
      ]
     },
     "metadata": {},
     "output_type": "display_data"
    }
   ],
   "source": [
    "#Отобразим боксплот для возраста пользователей\n",
    "rides_data.boxplot(column=['distance']);"
   ]
  },
  {
   "cell_type": "code",
   "execution_count": 30,
   "id": "6e6f83ea",
   "metadata": {},
   "outputs": [
    {
     "data": {
      "text/plain": [
       "count    18068.000000\n",
       "mean      3070.659976\n",
       "std       1116.831209\n",
       "min          0.855683\n",
       "25%       2543.226360\n",
       "50%       3133.609994\n",
       "75%       3776.222735\n",
       "max       7211.007745\n",
       "Name: distance, dtype: float64"
      ]
     },
     "execution_count": 30,
     "metadata": {},
     "output_type": "execute_result"
    }
   ],
   "source": [
    "rides_data['distance'].describe()"
   ]
  },
  {
   "cell_type": "markdown",
   "id": "ccae4e20",
   "metadata": {},
   "source": [
    "- Минимальное расстояние которое проехал пользователь за одну сессию 0.85 метров.  \n",
    "- Максимальное расстояние которое проехал пользователь 7.2 км.\n",
    "- Чаще всего пользователи за один раз проезжают от 2.2 и до 4.2 км.\n",
    "\n",
    "#### Продолжительность поездок\n",
    "\n",
    "`duration` - продолжительность сессии (в минутах) — время с того момента, как пользователь нажал кнопку «Начать поездку» до момента, как он нажал кнопку «Завершить поездку» "
   ]
  },
  {
   "cell_type": "code",
   "execution_count": 31,
   "id": "ff6a43b1",
   "metadata": {},
   "outputs": [
    {
     "data": {
      "image/png": "[encoded data removed]",
      "text/plain": [
       "<Figure size 640x480 with 1 Axes>"
      ]
     },
     "metadata": {},
     "output_type": "display_data"
    }
   ],
   "source": [
    "rides_data['duration'].hist(bins = 120, grid=True)\n",
    "plt.xlabel(\"время сессии в минутах\")\n",
    "plt.ylabel(\"кол-во сессий\")\n",
    "plt.title(\"Время продолжительностей каждой сессии\");"
   ]
  },
  {
   "cell_type": "code",
   "execution_count": 32,
   "id": "eb2c3228",
   "metadata": {},
   "outputs": [
    {
     "data": {
      "image/png": "[encoded data removed]",
      "text/plain": [
       "<Figure size 640x480 with 1 Axes>"
      ]
     },
     "metadata": {},
     "output_type": "display_data"
    }
   ],
   "source": [
    "#Отобразим боксплот для продолжительности поездок.\n",
    "rides_data.boxplot(column=['duration']);"
   ]
  },
  {
   "cell_type": "code",
   "execution_count": 33,
   "id": "3fac2b05",
   "metadata": {},
   "outputs": [
    {
     "data": {
      "text/plain": [
       "count    18068.000000\n",
       "mean        17.805011\n",
       "std          6.091051\n",
       "min          0.500000\n",
       "25%         13.597563\n",
       "50%         17.678395\n",
       "75%         21.724800\n",
       "max         40.823963\n",
       "Name: duration, dtype: float64"
      ]
     },
     "execution_count": 33,
     "metadata": {},
     "output_type": "execute_result"
    }
   ],
   "source": [
    "rides_data['duration'].describe()"
   ]
  },
  {
   "cell_type": "markdown",
   "id": "dacf678c",
   "metadata": {},
   "source": [
    "- Минимальная продолжительность поездки 30 сек. Есть всплеск в данной точке и странно, что около 80 человек имели продолжительность сессии 30 сек, возможно был какой-то программный сбой или по какой-то причине пользователи передумали осуществлять поездку.  \n",
    "- Максимальная продолжительность поездки 40.8 минут. \n",
    "- Чаще всего пользователи затрачивают на одну поездку от 10 до 25 минут.\n",
    "\n",
    "Возник вопрос по всплеску в значении 30 сек. Рассмотрим подробнее информацию о поездках длительность которых составляет 30 секунд."
   ]
  },
  {
   "cell_type": "code",
   "execution_count": 34,
   "id": "256adfa0",
   "metadata": {},
   "outputs": [
    {
     "data": {
      "text/html": [
       "<div>\n",
       "<style scoped>\n",
       "    .dataframe tbody tr th:only-of-type {\n",
       "        vertical-align: middle;\n",
       "    }\n",
       "\n",
       "    .dataframe tbody tr th {\n",
       "        vertical-align: top;\n",
       "    }\n",
       "\n",
       "    .dataframe thead th {\n",
       "        text-align: right;\n",
       "    }\n",
       "</style>\n",
       "<table border=\"1\" class=\"dataframe\">\n",
       "  <thead>\n",
       "    <tr style=\"text-align: right;\">\n",
       "      <th></th>\n",
       "      <th>user_id</th>\n",
       "      <th>distance</th>\n",
       "      <th>duration</th>\n",
       "      <th>date</th>\n",
       "      <th>month_date</th>\n",
       "      <th>year_date</th>\n",
       "    </tr>\n",
       "  </thead>\n",
       "  <tbody>\n",
       "    <tr>\n",
       "      <th>6531</th>\n",
       "      <td>701</td>\n",
       "      <td>4196.445201</td>\n",
       "      <td>0.5</td>\n",
       "      <td>2021-08-31</td>\n",
       "      <td>8</td>\n",
       "      <td>2021</td>\n",
       "    </tr>\n",
       "    <tr>\n",
       "      <th>6570</th>\n",
       "      <td>704</td>\n",
       "      <td>4830.824371</td>\n",
       "      <td>0.5</td>\n",
       "      <td>2021-10-14</td>\n",
       "      <td>10</td>\n",
       "      <td>2021</td>\n",
       "    </tr>\n",
       "    <tr>\n",
       "      <th>6680</th>\n",
       "      <td>712</td>\n",
       "      <td>4684.004397</td>\n",
       "      <td>0.5</td>\n",
       "      <td>2021-03-04</td>\n",
       "      <td>3</td>\n",
       "      <td>2021</td>\n",
       "    </tr>\n",
       "    <tr>\n",
       "      <th>6695</th>\n",
       "      <td>713</td>\n",
       "      <td>5215.642710</td>\n",
       "      <td>0.5</td>\n",
       "      <td>2021-02-25</td>\n",
       "      <td>2</td>\n",
       "      <td>2021</td>\n",
       "    </tr>\n",
       "    <tr>\n",
       "      <th>6768</th>\n",
       "      <td>718</td>\n",
       "      <td>5197.436649</td>\n",
       "      <td>0.5</td>\n",
       "      <td>2021-02-11</td>\n",
       "      <td>2</td>\n",
       "      <td>2021</td>\n",
       "    </tr>\n",
       "    <tr>\n",
       "      <th>...</th>\n",
       "      <td>...</td>\n",
       "      <td>...</td>\n",
       "      <td>...</td>\n",
       "      <td>...</td>\n",
       "      <td>...</td>\n",
       "      <td>...</td>\n",
       "    </tr>\n",
       "    <tr>\n",
       "      <th>17004</th>\n",
       "      <td>1460</td>\n",
       "      <td>5531.335845</td>\n",
       "      <td>0.5</td>\n",
       "      <td>2021-01-19</td>\n",
       "      <td>1</td>\n",
       "      <td>2021</td>\n",
       "    </tr>\n",
       "    <tr>\n",
       "      <th>17242</th>\n",
       "      <td>1477</td>\n",
       "      <td>6724.932981</td>\n",
       "      <td>0.5</td>\n",
       "      <td>2021-01-12</td>\n",
       "      <td>1</td>\n",
       "      <td>2021</td>\n",
       "    </tr>\n",
       "    <tr>\n",
       "      <th>17314</th>\n",
       "      <td>1483</td>\n",
       "      <td>4445.481070</td>\n",
       "      <td>0.5</td>\n",
       "      <td>2021-03-06</td>\n",
       "      <td>3</td>\n",
       "      <td>2021</td>\n",
       "    </tr>\n",
       "    <tr>\n",
       "      <th>17505</th>\n",
       "      <td>1496</td>\n",
       "      <td>5722.551787</td>\n",
       "      <td>0.5</td>\n",
       "      <td>2021-02-14</td>\n",
       "      <td>2</td>\n",
       "      <td>2021</td>\n",
       "    </tr>\n",
       "    <tr>\n",
       "      <th>17909</th>\n",
       "      <td>1524</td>\n",
       "      <td>4103.998874</td>\n",
       "      <td>0.5</td>\n",
       "      <td>2021-06-18</td>\n",
       "      <td>6</td>\n",
       "      <td>2021</td>\n",
       "    </tr>\n",
       "  </tbody>\n",
       "</table>\n",
       "<p>95 rows × 6 columns</p>\n",
       "</div>"
      ],
      "text/plain": [
       "       user_id     distance  duration       date  month_date  year_date\n",
       "6531       701  4196.445201       0.5 2021-08-31           8       2021\n",
       "6570       704  4830.824371       0.5 2021-10-14          10       2021\n",
       "6680       712  4684.004397       0.5 2021-03-04           3       2021\n",
       "6695       713  5215.642710       0.5 2021-02-25           2       2021\n",
       "6768       718  5197.436649       0.5 2021-02-11           2       2021\n",
       "...        ...          ...       ...        ...         ...        ...\n",
       "17004     1460  5531.335845       0.5 2021-01-19           1       2021\n",
       "17242     1477  6724.932981       0.5 2021-01-12           1       2021\n",
       "17314     1483  4445.481070       0.5 2021-03-06           3       2021\n",
       "17505     1496  5722.551787       0.5 2021-02-14           2       2021\n",
       "17909     1524  4103.998874       0.5 2021-06-18           6       2021\n",
       "\n",
       "[95 rows x 6 columns]"
      ]
     },
     "execution_count": 34,
     "metadata": {},
     "output_type": "execute_result"
    }
   ],
   "source": [
    "rides_data.query('duration == 0.5')"
   ]
  },
  {
   "cell_type": "code",
   "execution_count": 35,
   "id": "3e325eba",
   "metadata": {},
   "outputs": [
    {
     "name": "stdout",
     "output_type": "stream",
     "text": [
      "Количество строк с невозможным на практике расстоянием для 30 секунд: 95\n"
     ]
    }
   ],
   "source": [
    "print(\n",
    "    'Количество строк с невозможным на практике расстоянием для 30 секунд:', \n",
    "    rides_data.query('duration == 0.5 and distance > 1000').shape[0]\n",
    ")"
   ]
  },
  {
   "cell_type": "markdown",
   "id": "0cd9318e",
   "metadata": {},
   "source": [
    "Из 18068 поездок данные по 95 некорректны, что составляет меньше одного процента. Несмотря на некорректность данных и их небольшое число мы не можем их удалить в связи с тем, что данное удаление повлияет на значение выручки."
   ]
  },
  {
   "cell_type": "markdown",
   "id": "8593fb64",
   "metadata": {},
   "source": [
    "#### Выводы:\n",
    "- Нам представлена информация о пользователях из 8 городов.\n",
    "- Больше всего пользователей из Пятигорска, меньше всего из Москвы, но в целом доли пользователей разделены между 8 городами равномерно.\n",
    "- Доля пользователей без подписки больше, чем с подпиской на 8.8%\n",
    "    - доля пользователей без подписки 54.4%\n",
    "    - доля пользователей с подпиской Ultra 45.6%\n",
    "- Возраст пользователей находится на отрезке от 12 до 43 лет.\n",
    "- Больше всего пользователей с возрастом 25 лет. Количество пользователей возрастает при увеличении возраста от 12 до 25 и убывает от 25 до 43.\n",
    "- Чаще всего пользователи за один раз проезжают от 2.2 и до 4.2 км.\n",
    "- У пользователей чаще всего одна сессия длится от 10 до 25 минут.\n",
    "- Были найдены 95 поездок с некорректными данными. В значении 30 секунд был выявлен аномальный всплеск, и при проверке значений было обнаружено, что пользователю невозможно преодалеть указанное в датафрейме растояние за это время. Стоит обратить на них внимание, но они не были удалены всвязи с влиянием их удаления на общую выручку."
   ]
  },
  {
   "cell_type": "markdown",
   "id": "7ef471fd",
   "metadata": {},
   "source": [
    "### Объединение данных\n",
    "\n",
    "#### Объединим данные о пользователях, поездках и подписках в один датафрейм. "
   ]
  },
  {
   "cell_type": "code",
   "execution_count": 36,
   "id": "7bf7c478",
   "metadata": {},
   "outputs": [],
   "source": [
    "#Если нет пропусков и все данные в датафреймах корректны, \n",
    "#то в нашей ситуации для проверки размерности новых датафреймов можно написать такую функцию:\n",
    "def check_merge_size(data1_rows, data1_cols, data2_rows, data2_cols, new_data_rows, new_data_cols):\n",
    "    check_val_rows = data1_rows\n",
    "    check_val_cols = data1_cols + data2_cols - 1\n",
    "    if (check_val_rows == new_data_rows) & (check_val_cols == new_data_cols):\n",
    "        print('Размер после объединения датафреймов корректен.')\n",
    "    else:\n",
    "        print('Обнаружена ошибка при проверке размера нового датафрейма!')"
   ]
  },
  {
   "cell_type": "code",
   "execution_count": 37,
   "id": "c8b22181",
   "metadata": {},
   "outputs": [
    {
     "name": "stdout",
     "output_type": "stream",
     "text": [
      "Размер после объединения датафреймов корректен.\n",
      "Размер после объединения датафреймов корректен.\n"
     ]
    },
    {
     "data": {
      "text/html": [
       "<div>\n",
       "<style scoped>\n",
       "    .dataframe tbody tr th:only-of-type {\n",
       "        vertical-align: middle;\n",
       "    }\n",
       "\n",
       "    .dataframe tbody tr th {\n",
       "        vertical-align: top;\n",
       "    }\n",
       "\n",
       "    .dataframe thead th {\n",
       "        text-align: right;\n",
       "    }\n",
       "</style>\n",
       "<table border=\"1\" class=\"dataframe\">\n",
       "  <thead>\n",
       "    <tr style=\"text-align: right;\">\n",
       "      <th></th>\n",
       "      <th>user_id</th>\n",
       "      <th>distance</th>\n",
       "      <th>duration</th>\n",
       "      <th>date</th>\n",
       "      <th>month_date</th>\n",
       "      <th>year_date</th>\n",
       "      <th>name</th>\n",
       "      <th>age</th>\n",
       "      <th>city</th>\n",
       "      <th>subscription_type</th>\n",
       "      <th>minute_price</th>\n",
       "      <th>start_ride_price</th>\n",
       "      <th>subscription_fee</th>\n",
       "    </tr>\n",
       "  </thead>\n",
       "  <tbody>\n",
       "    <tr>\n",
       "      <th>0</th>\n",
       "      <td>1</td>\n",
       "      <td>4409.919140</td>\n",
       "      <td>25.599769</td>\n",
       "      <td>2021-01-01</td>\n",
       "      <td>1</td>\n",
       "      <td>2021</td>\n",
       "      <td>Кира</td>\n",
       "      <td>22</td>\n",
       "      <td>Тюмень</td>\n",
       "      <td>ultra</td>\n",
       "      <td>6</td>\n",
       "      <td>0</td>\n",
       "      <td>199</td>\n",
       "    </tr>\n",
       "    <tr>\n",
       "      <th>1</th>\n",
       "      <td>1</td>\n",
       "      <td>2617.592153</td>\n",
       "      <td>15.816871</td>\n",
       "      <td>2021-01-18</td>\n",
       "      <td>1</td>\n",
       "      <td>2021</td>\n",
       "      <td>Кира</td>\n",
       "      <td>22</td>\n",
       "      <td>Тюмень</td>\n",
       "      <td>ultra</td>\n",
       "      <td>6</td>\n",
       "      <td>0</td>\n",
       "      <td>199</td>\n",
       "    </tr>\n",
       "    <tr>\n",
       "      <th>2</th>\n",
       "      <td>1</td>\n",
       "      <td>754.159807</td>\n",
       "      <td>6.232113</td>\n",
       "      <td>2021-04-20</td>\n",
       "      <td>4</td>\n",
       "      <td>2021</td>\n",
       "      <td>Кира</td>\n",
       "      <td>22</td>\n",
       "      <td>Тюмень</td>\n",
       "      <td>ultra</td>\n",
       "      <td>6</td>\n",
       "      <td>0</td>\n",
       "      <td>199</td>\n",
       "    </tr>\n",
       "    <tr>\n",
       "      <th>3</th>\n",
       "      <td>1</td>\n",
       "      <td>2694.783254</td>\n",
       "      <td>18.511000</td>\n",
       "      <td>2021-08-11</td>\n",
       "      <td>8</td>\n",
       "      <td>2021</td>\n",
       "      <td>Кира</td>\n",
       "      <td>22</td>\n",
       "      <td>Тюмень</td>\n",
       "      <td>ultra</td>\n",
       "      <td>6</td>\n",
       "      <td>0</td>\n",
       "      <td>199</td>\n",
       "    </tr>\n",
       "    <tr>\n",
       "      <th>4</th>\n",
       "      <td>1</td>\n",
       "      <td>4028.687306</td>\n",
       "      <td>26.265803</td>\n",
       "      <td>2021-08-28</td>\n",
       "      <td>8</td>\n",
       "      <td>2021</td>\n",
       "      <td>Кира</td>\n",
       "      <td>22</td>\n",
       "      <td>Тюмень</td>\n",
       "      <td>ultra</td>\n",
       "      <td>6</td>\n",
       "      <td>0</td>\n",
       "      <td>199</td>\n",
       "    </tr>\n",
       "    <tr>\n",
       "      <th>5</th>\n",
       "      <td>1</td>\n",
       "      <td>2770.890808</td>\n",
       "      <td>16.650138</td>\n",
       "      <td>2021-10-09</td>\n",
       "      <td>10</td>\n",
       "      <td>2021</td>\n",
       "      <td>Кира</td>\n",
       "      <td>22</td>\n",
       "      <td>Тюмень</td>\n",
       "      <td>ultra</td>\n",
       "      <td>6</td>\n",
       "      <td>0</td>\n",
       "      <td>199</td>\n",
       "    </tr>\n",
       "    <tr>\n",
       "      <th>6</th>\n",
       "      <td>1</td>\n",
       "      <td>3039.020292</td>\n",
       "      <td>14.927879</td>\n",
       "      <td>2021-10-19</td>\n",
       "      <td>10</td>\n",
       "      <td>2021</td>\n",
       "      <td>Кира</td>\n",
       "      <td>22</td>\n",
       "      <td>Тюмень</td>\n",
       "      <td>ultra</td>\n",
       "      <td>6</td>\n",
       "      <td>0</td>\n",
       "      <td>199</td>\n",
       "    </tr>\n",
       "    <tr>\n",
       "      <th>7</th>\n",
       "      <td>1</td>\n",
       "      <td>2842.118050</td>\n",
       "      <td>23.117468</td>\n",
       "      <td>2021-11-06</td>\n",
       "      <td>11</td>\n",
       "      <td>2021</td>\n",
       "      <td>Кира</td>\n",
       "      <td>22</td>\n",
       "      <td>Тюмень</td>\n",
       "      <td>ultra</td>\n",
       "      <td>6</td>\n",
       "      <td>0</td>\n",
       "      <td>199</td>\n",
       "    </tr>\n",
       "    <tr>\n",
       "      <th>8</th>\n",
       "      <td>1</td>\n",
       "      <td>3412.690668</td>\n",
       "      <td>15.238072</td>\n",
       "      <td>2021-11-14</td>\n",
       "      <td>11</td>\n",
       "      <td>2021</td>\n",
       "      <td>Кира</td>\n",
       "      <td>22</td>\n",
       "      <td>Тюмень</td>\n",
       "      <td>ultra</td>\n",
       "      <td>6</td>\n",
       "      <td>0</td>\n",
       "      <td>199</td>\n",
       "    </tr>\n",
       "    <tr>\n",
       "      <th>9</th>\n",
       "      <td>1</td>\n",
       "      <td>748.690645</td>\n",
       "      <td>15.041884</td>\n",
       "      <td>2021-11-22</td>\n",
       "      <td>11</td>\n",
       "      <td>2021</td>\n",
       "      <td>Кира</td>\n",
       "      <td>22</td>\n",
       "      <td>Тюмень</td>\n",
       "      <td>ultra</td>\n",
       "      <td>6</td>\n",
       "      <td>0</td>\n",
       "      <td>199</td>\n",
       "    </tr>\n",
       "  </tbody>\n",
       "</table>\n",
       "</div>"
      ],
      "text/plain": [
       "   user_id     distance   duration       date  month_date  year_date  name  \\\n",
       "0        1  4409.919140  25.599769 2021-01-01           1       2021  Кира   \n",
       "1        1  2617.592153  15.816871 2021-01-18           1       2021  Кира   \n",
       "2        1   754.159807   6.232113 2021-04-20           4       2021  Кира   \n",
       "3        1  2694.783254  18.511000 2021-08-11           8       2021  Кира   \n",
       "4        1  4028.687306  26.265803 2021-08-28           8       2021  Кира   \n",
       "5        1  2770.890808  16.650138 2021-10-09          10       2021  Кира   \n",
       "6        1  3039.020292  14.927879 2021-10-19          10       2021  Кира   \n",
       "7        1  2842.118050  23.117468 2021-11-06          11       2021  Кира   \n",
       "8        1  3412.690668  15.238072 2021-11-14          11       2021  Кира   \n",
       "9        1   748.690645  15.041884 2021-11-22          11       2021  Кира   \n",
       "\n",
       "   age    city subscription_type  minute_price  start_ride_price  \\\n",
       "0   22  Тюмень             ultra             6                 0   \n",
       "1   22  Тюмень             ultra             6                 0   \n",
       "2   22  Тюмень             ultra             6                 0   \n",
       "3   22  Тюмень             ultra             6                 0   \n",
       "4   22  Тюмень             ultra             6                 0   \n",
       "5   22  Тюмень             ultra             6                 0   \n",
       "6   22  Тюмень             ultra             6                 0   \n",
       "7   22  Тюмень             ultra             6                 0   \n",
       "8   22  Тюмень             ultra             6                 0   \n",
       "9   22  Тюмень             ultra             6                 0   \n",
       "\n",
       "   subscription_fee  \n",
       "0               199  \n",
       "1               199  \n",
       "2               199  \n",
       "3               199  \n",
       "4               199  \n",
       "5               199  \n",
       "6               199  \n",
       "7               199  \n",
       "8               199  \n",
       "9               199  "
      ]
     },
     "execution_count": 37,
     "metadata": {},
     "output_type": "execute_result"
    }
   ],
   "source": [
    "#Для объединения датафреймов воспользуйтесь методом `merge()` тип объединения по умолчанию `inner`\n",
    "users_scrip_data = users_data.merge(scrp_data, on='subscription_type')\n",
    "check_merge_size(\n",
    "    users_data.shape[0], users_data.shape[1], \n",
    "    scrp_data.shape[0], scrp_data.shape[1],\n",
    "    users_scrip_data.shape[0], users_scrip_data.shape[1]\n",
    ")\n",
    "all_data = rides_data.merge(users_scrip_data, on='user_id')\n",
    "check_merge_size(\n",
    "    rides_data.shape[0], rides_data.shape[1], \n",
    "    users_scrip_data.shape[0], users_scrip_data.shape[1],\n",
    "    all_data.shape[0], all_data.shape[1]\n",
    ")\n",
    "all_data.head(10)"
   ]
  },
  {
   "cell_type": "code",
   "execution_count": 38,
   "id": "ca6a1768",
   "metadata": {},
   "outputs": [
    {
     "name": "stdout",
     "output_type": "stream",
     "text": [
      "Количество уникальных id пользователей: 1534\n"
     ]
    }
   ],
   "source": [
    "print('Количество уникальных id пользователей:', len(all_data['user_id'].unique()))"
   ]
  },
  {
   "cell_type": "markdown",
   "id": "d5e2fbca",
   "metadata": {},
   "source": [
    "#### Создадим ещё два датафрейма\n",
    "\n",
    "Создадим из предыдущего общего датафрейма ещё 2 датафрейма:\n",
    "- c данными о пользователях без подписки;\n",
    "- с данными о пользователях с подпиской."
   ]
  },
  {
   "cell_type": "code",
   "execution_count": 39,
   "id": "d8d40ee7",
   "metadata": {},
   "outputs": [
    {
     "name": "stdout",
     "output_type": "stream",
     "text": [
      "Всего 18068 записей: 11568 + 6500 = 18068\n"
     ]
    }
   ],
   "source": [
    "# датафрейм c данными о пользователях без подписки;\n",
    "data_free_sscrip = all_data.query('subscription_type == \"free\"')\n",
    "# датафрейм c данными о пользователях с подпиской;\n",
    "data_ultra_sscrip = all_data.query('subscription_type == \"ultra\"')\n",
    "print('Всего' , all_data.shape[0], 'записей:', data_free_sscrip.shape[0],\n",
    "      '+', data_ultra_sscrip.shape[0], '=', data_free_sscrip.shape[0] + data_ultra_sscrip.shape[0])"
   ]
  },
  {
   "cell_type": "markdown",
   "id": "9c079eed",
   "metadata": {},
   "source": [
    "#### Визуализируем информацию о расстоянии и времени поездок для пользователей обеих категорий.\n",
    "\n",
    "##### Рассмотрим гистограммы для расстояния на которые совершаются поездки"
   ]
  },
  {
   "cell_type": "code",
   "execution_count": 40,
   "id": "1c53ca4c",
   "metadata": {},
   "outputs": [
    {
     "name": "stdout",
     "output_type": "stream",
     "text": [
      "Расстояния которые пользователи проезжают за одну сессию\n"
     ]
    },
    {
     "data": {
      "image/png": "[encoded data removed]",
      "text/plain": [
       "<Figure size 1500x500 with 2 Axes>"
      ]
     },
     "metadata": {},
     "output_type": "display_data"
    }
   ],
   "source": [
    "print(\"Расстояния которые пользователи проезжают за одну сессию\")\n",
    "plt.figure(figsize=(15,5))\n",
    "plt.subplot(1, 2, 1)\n",
    "data_free_sscrip['distance'].hist(bins = 120, grid=True)\n",
    "plt.title(\"Без подписки\");\n",
    "\n",
    "plt.subplot(1, 2, 2)\n",
    "data_ultra_sscrip['distance'].hist(bins = 120, grid=True)\n",
    "plt.title(\"С подпиской ULTRA\")\n",
    "plt.tight_layout();"
   ]
  },
  {
   "cell_type": "code",
   "execution_count": 41,
   "id": "af6f008a",
   "metadata": {},
   "outputs": [
    {
     "data": {
      "image/png": "[encoded data removed]",
      "text/plain": [
       "<Figure size 640x480 with 1 Axes>"
      ]
     },
     "metadata": {},
     "output_type": "display_data"
    }
   ],
   "source": [
    "ax =data_ultra_sscrip['distance'].plot(\n",
    "    kind='hist',\n",
    "    y='distance',\n",
    "    histtype='step',\n",
    "    bins= 80,\n",
    "    linewidth=3,\n",
    "    alpha=0.8,\n",
    "    label='подписка ultra',\n",
    "    legend=True,\n",
    ")\n",
    "data_free_sscrip['distance'].plot(\n",
    "    kind='hist',\n",
    "    y='distance',\n",
    "    histtype='step',\n",
    "    bins=80,\n",
    "    linewidth=3,\n",
    "    alpha=0.8,\n",
    "    label='без подписки',\n",
    "    ax=ax,\n",
    "    grid=True,\n",
    "    legend=True,\n",
    ")\n",
    "ax.set_title('Расстояния на которые совершаются поездки')\n",
    "ax.set_xlabel('расстояние в метрах')\n",
    "ax.set_ylabel('кол-во поездок');"
   ]
  },
  {
   "cell_type": "code",
   "execution_count": 42,
   "id": "7c04d578",
   "metadata": {},
   "outputs": [
    {
     "data": {
      "image/png": "[encoded data removed]",
      "text/plain": [
       "<Figure size 640x480 with 1 Axes>"
      ]
     },
     "metadata": {},
     "output_type": "display_data"
    }
   ],
   "source": [
    "sns.boxplot(x='subscription_type', y='distance', data=all_data);"
   ]
  },
  {
   "cell_type": "code",
   "execution_count": 43,
   "id": "7fd31451",
   "metadata": {},
   "outputs": [
    {
     "name": "stdout",
     "output_type": "stream",
     "text": [
      "Для пользователей с подпиской Ultra:\n",
      " count    6500.000000\n",
      "mean     3115.445388\n",
      "std       836.895330\n",
      "min       244.210438\n",
      "25%      2785.444017\n",
      "50%      3148.637229\n",
      "75%      3560.574425\n",
      "max      5699.769662\n",
      "Name: distance, dtype: float64\n",
      "\n",
      "Для пользователей без подписки:\n",
      " count    11568.000000\n",
      "mean      3045.495282\n",
      "std       1246.173806\n",
      "min          0.855683\n",
      "25%       2366.562689\n",
      "50%       3114.648465\n",
      "75%       3905.697894\n",
      "max       7211.007745\n",
      "Name: distance, dtype: float64\n"
     ]
    }
   ],
   "source": [
    "print('Для пользователей с подпиской Ultra:\\n', data_ultra_sscrip['distance'].describe())\n",
    "print('\\nДля пользователей без подписки:\\n', data_free_sscrip['distance'].describe())"
   ]
  },
  {
   "cell_type": "markdown",
   "id": "f600cd54",
   "metadata": {},
   "source": [
    "- Медианные значения растояний у пользователей с подпиской и без не сильно отличаются и составляют чуть больше 3 км. \n",
    "- Диапазон расстояний которое предолевают пользователи без подписки больше чем у пользователей с подпиской.\n",
    "    - Максимальное расстояние у пользователей без подписки больше, а минимальное меньше.\n",
    "    - Диапазон значений между первым и третьим квантилями у пользователей без подписки тоже больше.\n",
    "\n",
    "##### Рассмотрим гистограммы для времени которые занимают поездки"
   ]
  },
  {
   "cell_type": "code",
   "execution_count": 44,
   "id": "9efc2875",
   "metadata": {},
   "outputs": [
    {
     "name": "stdout",
     "output_type": "stream",
     "text": [
      "Время продолжительности одной сессии\n"
     ]
    },
    {
     "data": {
      "image/png": "[encoded data removed]",
      "text/plain": [
       "<Figure size 1500x500 with 2 Axes>"
      ]
     },
     "metadata": {},
     "output_type": "display_data"
    }
   ],
   "source": [
    "print(\"Время продолжительности одной сессии\")\n",
    "plt.figure(figsize=(15,5))\n",
    "plt.subplot(1, 2, 1)\n",
    "data_free_sscrip['duration'].hist(bins = 120, grid=True)\n",
    "plt.title(\"Без подписки\");\n",
    "\n",
    "plt.subplot(1, 2, 2)\n",
    "data_ultra_sscrip['duration'].hist(bins = 120, grid=True)\n",
    "plt.title(\"С подпиской ULTRA\")\n",
    "plt.tight_layout();"
   ]
  },
  {
   "cell_type": "code",
   "execution_count": 45,
   "id": "eef30242",
   "metadata": {},
   "outputs": [
    {
     "data": {
      "image/png": "[encoded data removed]",
      "text/plain": [
       "<Figure size 640x480 with 1 Axes>"
      ]
     },
     "metadata": {},
     "output_type": "display_data"
    }
   ],
   "source": [
    "ax =data_ultra_sscrip['duration'].plot(\n",
    "    kind='hist',\n",
    "    y='distance',\n",
    "    histtype='step',\n",
    "    bins= 80,\n",
    "    linewidth=3,\n",
    "    alpha=0.8,\n",
    "    label='подписка ultra',\n",
    "    legend=True,\n",
    ")\n",
    "data_free_sscrip['duration'].plot(\n",
    "    kind='hist',\n",
    "    y='distance',\n",
    "    histtype='step',\n",
    "    bins=80,\n",
    "    linewidth=3,\n",
    "    alpha=0.8,\n",
    "    label='без подписки',\n",
    "    ax=ax,\n",
    "    grid=True,\n",
    "    legend=True,\n",
    ")\n",
    "ax.set_title('Врямя продолжительности поездок (одной сессии)')\n",
    "ax.set_xlabel('время в минутах')\n",
    "ax.set_ylabel('кол-во поездок');"
   ]
  },
  {
   "cell_type": "code",
   "execution_count": 46,
   "id": "ce492d2f",
   "metadata": {},
   "outputs": [
    {
     "data": {
      "image/png": "[encoded data removed]",
      "text/plain": [
       "<Figure size 640x480 with 1 Axes>"
      ]
     },
     "metadata": {},
     "output_type": "display_data"
    }
   ],
   "source": [
    "sns.boxplot(x='subscription_type', y='duration', data=all_data);"
   ]
  },
  {
   "cell_type": "code",
   "execution_count": 47,
   "id": "226b49c0",
   "metadata": {},
   "outputs": [
    {
     "name": "stdout",
     "output_type": "stream",
     "text": [
      "Для пользователей с подпиской Ultra:\n",
      " count    6500.000000\n",
      "mean       18.541985\n",
      "std         5.572048\n",
      "min         3.760353\n",
      "25%        14.524654\n",
      "50%        18.178153\n",
      "75%        21.884129\n",
      "max        40.823963\n",
      "Name: duration, dtype: float64\n",
      "\n",
      "Для пользователей без подписки:\n",
      " count    11568.000000\n",
      "mean        17.390909\n",
      "std          6.326803\n",
      "min          0.500000\n",
      "25%         12.958437\n",
      "50%         17.326890\n",
      "75%         21.594071\n",
      "max         34.948498\n",
      "Name: duration, dtype: float64\n"
     ]
    }
   ],
   "source": [
    "print('Для пользователей с подпиской Ultra:\\n', data_ultra_sscrip['duration'].describe())\n",
    "print('\\nДля пользователей без подписки:\\n', data_free_sscrip['duration'].describe())"
   ]
  },
  {
   "cell_type": "markdown",
   "id": "772cf917",
   "metadata": {},
   "source": [
    "- Медианное время поездок у пользователей с подпиской и без различаются всего на 1 минуту (у пользователей с подпиской чуть больше), и составляет около 18 минут.\n",
    "- Диапазон разброса значений времени поездок у пользователей без подписки больше чем у пользователей с подпиской.\n",
    "    - Максимальное время поездки у пользователей без подписки больше, а минимальное меньше.\n",
    "    - Диапазон значений между первым и третьим квантилями у пользователей без подписки тоже больше, но совсем на немного, размеры данного диапазона довольно близки.\n",
    "- Заметим, что подозрительный всплеск в значении 30 секунд (на котрый было обращено внимание в п.3.5) наблюдается только у пользователей без подписки "
   ]
  },
  {
   "cell_type": "markdown",
   "id": "ebeab7c2",
   "metadata": {},
   "source": [
    "#### Выводы: \n",
    "- Успешно создали 3 вспомогательных датафрейма.\n",
    "    - объединили данные о пользователях, поездках и подписках в один датафрейм\n",
    "    - разделили объединённый датафрейм на 2 части: для пользователей без подписки, для пользователей с подпиской\n",
    "- Пользователей подпиской меньше чем без подписки.\n",
    "- Медианные значения растояний у пользователей с подпиской и без не сильно отличаются и составляют чуть больше 3 км. \n",
    "- Медианное время поездок у пользователей с подпиской и без различаются всего на 1 минуту (у пользователей с подпиской чуть больше), и составляет около 18 минут.\n",
    "- Диапазоны разброса значений для расстояния и времени поездок у пользователей без подписки больше, чем у пользователей с подпиской."
   ]
  },
  {
   "cell_type": "markdown",
   "id": "b8165346",
   "metadata": {},
   "source": [
    "### Подсчёт выручки\n",
    "\n",
    "#### Создадим датафрейм с агрегированными данными о поездках\n",
    "\n",
    "Создадим датафрейм с агрегированными данными о поездках на основе датафрейма с объединёнными данными: \n",
    "- найдём суммарное расстояние, \n",
    "- количество поездок \n",
    "- и суммарное время для каждого пользователя за каждый месяц."
   ]
  },
  {
   "cell_type": "markdown",
   "id": "a5aa022c",
   "metadata": {},
   "source": [
    "Заметим, что общее время необходимо пересчитать с округлением к большему целому, т.к. при при оплате каждой поездки для проведения оплаты время будет округляться. И нам не достаточно округлить время только в последнем датафрейме, чтобы получить правильное значение необходимо округлить время для каждой поездки в отдельности. "
   ]
  },
  {
   "cell_type": "code",
   "execution_count": 48,
   "id": "6ffd685f",
   "metadata": {},
   "outputs": [
    {
     "data": {
      "text/html": [
       "<div>\n",
       "<style scoped>\n",
       "    .dataframe tbody tr th:only-of-type {\n",
       "        vertical-align: middle;\n",
       "    }\n",
       "\n",
       "    .dataframe tbody tr th {\n",
       "        vertical-align: top;\n",
       "    }\n",
       "\n",
       "    .dataframe thead th {\n",
       "        text-align: right;\n",
       "    }\n",
       "</style>\n",
       "<table border=\"1\" class=\"dataframe\">\n",
       "  <thead>\n",
       "    <tr style=\"text-align: right;\">\n",
       "      <th></th>\n",
       "      <th>user_id</th>\n",
       "      <th>month</th>\n",
       "      <th>sum_distances</th>\n",
       "      <th>rides_count</th>\n",
       "      <th>sum_round_durations</th>\n",
       "    </tr>\n",
       "  </thead>\n",
       "  <tbody>\n",
       "    <tr>\n",
       "      <th>0</th>\n",
       "      <td>1</td>\n",
       "      <td>1</td>\n",
       "      <td>7027.511294</td>\n",
       "      <td>2</td>\n",
       "      <td>42</td>\n",
       "    </tr>\n",
       "    <tr>\n",
       "      <th>1</th>\n",
       "      <td>1</td>\n",
       "      <td>4</td>\n",
       "      <td>754.159807</td>\n",
       "      <td>1</td>\n",
       "      <td>7</td>\n",
       "    </tr>\n",
       "    <tr>\n",
       "      <th>2</th>\n",
       "      <td>1</td>\n",
       "      <td>8</td>\n",
       "      <td>6723.470560</td>\n",
       "      <td>2</td>\n",
       "      <td>46</td>\n",
       "    </tr>\n",
       "    <tr>\n",
       "      <th>3</th>\n",
       "      <td>1</td>\n",
       "      <td>10</td>\n",
       "      <td>5809.911100</td>\n",
       "      <td>2</td>\n",
       "      <td>32</td>\n",
       "    </tr>\n",
       "    <tr>\n",
       "      <th>4</th>\n",
       "      <td>1</td>\n",
       "      <td>11</td>\n",
       "      <td>7003.499363</td>\n",
       "      <td>3</td>\n",
       "      <td>56</td>\n",
       "    </tr>\n",
       "    <tr>\n",
       "      <th>5</th>\n",
       "      <td>1</td>\n",
       "      <td>12</td>\n",
       "      <td>6751.629942</td>\n",
       "      <td>2</td>\n",
       "      <td>28</td>\n",
       "    </tr>\n",
       "    <tr>\n",
       "      <th>6</th>\n",
       "      <td>2</td>\n",
       "      <td>3</td>\n",
       "      <td>10187.723006</td>\n",
       "      <td>3</td>\n",
       "      <td>63</td>\n",
       "    </tr>\n",
       "    <tr>\n",
       "      <th>7</th>\n",
       "      <td>2</td>\n",
       "      <td>4</td>\n",
       "      <td>6164.381824</td>\n",
       "      <td>2</td>\n",
       "      <td>40</td>\n",
       "    </tr>\n",
       "    <tr>\n",
       "      <th>8</th>\n",
       "      <td>2</td>\n",
       "      <td>6</td>\n",
       "      <td>3255.338202</td>\n",
       "      <td>1</td>\n",
       "      <td>14</td>\n",
       "    </tr>\n",
       "    <tr>\n",
       "      <th>9</th>\n",
       "      <td>2</td>\n",
       "      <td>7</td>\n",
       "      <td>6780.722964</td>\n",
       "      <td>2</td>\n",
       "      <td>48</td>\n",
       "    </tr>\n",
       "  </tbody>\n",
       "</table>\n",
       "</div>"
      ],
      "text/plain": [
       "   user_id  month  sum_distances  rides_count  sum_round_durations\n",
       "0        1      1    7027.511294            2                   42\n",
       "1        1      4     754.159807            1                    7\n",
       "2        1      8    6723.470560            2                   46\n",
       "3        1     10    5809.911100            2                   32\n",
       "4        1     11    7003.499363            3                   56\n",
       "5        1     12    6751.629942            2                   28\n",
       "6        2      3   10187.723006            3                   63\n",
       "7        2      4    6164.381824            2                   40\n",
       "8        2      6    3255.338202            1                   14\n",
       "9        2      7    6780.722964            2                   48"
      ]
     },
     "execution_count": 48,
     "metadata": {},
     "output_type": "execute_result"
    }
   ],
   "source": [
    "all_data['round_duration'] = np.ceil(all_data['duration'])\n",
    "all_data['round_duration'] = all_data['round_duration'].astype('int')\n",
    "\n",
    "new_data = all_data.groupby(['user_id', 'month_date']).agg(\n",
    "    {'distance' : ['sum', 'count'] ,'round_duration': ['sum']}).reset_index()\n",
    "new_data.columns = ['user_id', 'month', 'sum_distances', 'rides_count', 'sum_round_durations']\n",
    "new_data.head(10)"
   ]
  },
  {
   "cell_type": "code",
   "execution_count": 49,
   "id": "fbf53120",
   "metadata": {},
   "outputs": [
    {
     "data": {
      "text/plain": [
       "user_id                0\n",
       "month                  0\n",
       "sum_distances          0\n",
       "rides_count            0\n",
       "sum_round_durations    0\n",
       "dtype: int64"
      ]
     },
     "execution_count": 49,
     "metadata": {},
     "output_type": "execute_result"
    }
   ],
   "source": [
    "#Проверим есть ли пропуски\n",
    "new_data.isna().sum()"
   ]
  },
  {
   "cell_type": "markdown",
   "id": "3be4b665",
   "metadata": {},
   "source": [
    "#### Добавим в новый датафрейм столбец с помесячной выручкой\n",
    "\n",
    "В этот же датафрейм добавим столбец с помесячной выручкой, которую принёс каждый пользователь."
   ]
  },
  {
   "cell_type": "markdown",
   "id": "d4c61ead",
   "metadata": {},
   "source": [
    "Помесячная выручка считается по формуле: (стоимость старта поездки × количество поездок) + стоимость одной минуты поездки × общая продолжительность всех поездок в минутах) + стоимость подписки.\n",
    "\n",
    "Напишем функцию для подсчёта выручки за месяц (лучше вынести вычисления в ф-цию т.к. при изменении тарифов будет легче вносить изменения)."
   ]
  },
  {
   "cell_type": "code",
   "execution_count": 50,
   "id": "9597f308",
   "metadata": {},
   "outputs": [],
   "source": [
    "def get_month_user_spent(row):\n",
    "    count_duration = row['rides_count']\n",
    "    round_duration = row['sum_round_durations']\n",
    "    user_id = row['user_id']\n",
    "    subscription_type = users_data.loc[users_data['user_id'] == user_id, 'subscription_type']\n",
    "    subscription_row = scrp_data[scrp_data['subscription_type'] == subscription_type.values [0]]\n",
    "    \n",
    "    start_price = subscription_row['start_ride_price'].values [0]\n",
    "    one_min_price = subscription_row['minute_price'].values [0]\n",
    "    subscription_fee = subscription_row['subscription_fee'].values [0]\n",
    "    month_user_spent = start_price * count_duration + one_min_price * round_duration + subscription_fee\n",
    "    \n",
    "    return month_user_spent"
   ]
  },
  {
   "cell_type": "code",
   "execution_count": 51,
   "id": "2d583fb6",
   "metadata": {},
   "outputs": [
    {
     "data": {
      "text/html": [
       "<div>\n",
       "<style scoped>\n",
       "    .dataframe tbody tr th:only-of-type {\n",
       "        vertical-align: middle;\n",
       "    }\n",
       "\n",
       "    .dataframe tbody tr th {\n",
       "        vertical-align: top;\n",
       "    }\n",
       "\n",
       "    .dataframe thead th {\n",
       "        text-align: right;\n",
       "    }\n",
       "</style>\n",
       "<table border=\"1\" class=\"dataframe\">\n",
       "  <thead>\n",
       "    <tr style=\"text-align: right;\">\n",
       "      <th></th>\n",
       "      <th>user_id</th>\n",
       "      <th>month</th>\n",
       "      <th>sum_distances</th>\n",
       "      <th>rides_count</th>\n",
       "      <th>sum_round_durations</th>\n",
       "      <th>user_month_spent</th>\n",
       "    </tr>\n",
       "  </thead>\n",
       "  <tbody>\n",
       "    <tr>\n",
       "      <th>0</th>\n",
       "      <td>1</td>\n",
       "      <td>1</td>\n",
       "      <td>7027.511294</td>\n",
       "      <td>2</td>\n",
       "      <td>42</td>\n",
       "      <td>451.0</td>\n",
       "    </tr>\n",
       "    <tr>\n",
       "      <th>1</th>\n",
       "      <td>1</td>\n",
       "      <td>4</td>\n",
       "      <td>754.159807</td>\n",
       "      <td>1</td>\n",
       "      <td>7</td>\n",
       "      <td>241.0</td>\n",
       "    </tr>\n",
       "    <tr>\n",
       "      <th>2</th>\n",
       "      <td>1</td>\n",
       "      <td>8</td>\n",
       "      <td>6723.470560</td>\n",
       "      <td>2</td>\n",
       "      <td>46</td>\n",
       "      <td>475.0</td>\n",
       "    </tr>\n",
       "    <tr>\n",
       "      <th>3</th>\n",
       "      <td>1</td>\n",
       "      <td>10</td>\n",
       "      <td>5809.911100</td>\n",
       "      <td>2</td>\n",
       "      <td>32</td>\n",
       "      <td>391.0</td>\n",
       "    </tr>\n",
       "    <tr>\n",
       "      <th>4</th>\n",
       "      <td>1</td>\n",
       "      <td>11</td>\n",
       "      <td>7003.499363</td>\n",
       "      <td>3</td>\n",
       "      <td>56</td>\n",
       "      <td>535.0</td>\n",
       "    </tr>\n",
       "    <tr>\n",
       "      <th>5</th>\n",
       "      <td>1</td>\n",
       "      <td>12</td>\n",
       "      <td>6751.629942</td>\n",
       "      <td>2</td>\n",
       "      <td>28</td>\n",
       "      <td>367.0</td>\n",
       "    </tr>\n",
       "    <tr>\n",
       "      <th>6</th>\n",
       "      <td>2</td>\n",
       "      <td>3</td>\n",
       "      <td>10187.723006</td>\n",
       "      <td>3</td>\n",
       "      <td>63</td>\n",
       "      <td>577.0</td>\n",
       "    </tr>\n",
       "    <tr>\n",
       "      <th>7</th>\n",
       "      <td>2</td>\n",
       "      <td>4</td>\n",
       "      <td>6164.381824</td>\n",
       "      <td>2</td>\n",
       "      <td>40</td>\n",
       "      <td>439.0</td>\n",
       "    </tr>\n",
       "    <tr>\n",
       "      <th>8</th>\n",
       "      <td>2</td>\n",
       "      <td>6</td>\n",
       "      <td>3255.338202</td>\n",
       "      <td>1</td>\n",
       "      <td>14</td>\n",
       "      <td>283.0</td>\n",
       "    </tr>\n",
       "    <tr>\n",
       "      <th>9</th>\n",
       "      <td>2</td>\n",
       "      <td>7</td>\n",
       "      <td>6780.722964</td>\n",
       "      <td>2</td>\n",
       "      <td>48</td>\n",
       "      <td>487.0</td>\n",
       "    </tr>\n",
       "  </tbody>\n",
       "</table>\n",
       "</div>"
      ],
      "text/plain": [
       "   user_id  month  sum_distances  rides_count  sum_round_durations  \\\n",
       "0        1      1    7027.511294            2                   42   \n",
       "1        1      4     754.159807            1                    7   \n",
       "2        1      8    6723.470560            2                   46   \n",
       "3        1     10    5809.911100            2                   32   \n",
       "4        1     11    7003.499363            3                   56   \n",
       "5        1     12    6751.629942            2                   28   \n",
       "6        2      3   10187.723006            3                   63   \n",
       "7        2      4    6164.381824            2                   40   \n",
       "8        2      6    3255.338202            1                   14   \n",
       "9        2      7    6780.722964            2                   48   \n",
       "\n",
       "   user_month_spent  \n",
       "0             451.0  \n",
       "1             241.0  \n",
       "2             475.0  \n",
       "3             391.0  \n",
       "4             535.0  \n",
       "5             367.0  \n",
       "6             577.0  \n",
       "7             439.0  \n",
       "8             283.0  \n",
       "9             487.0  "
      ]
     },
     "execution_count": 51,
     "metadata": {},
     "output_type": "execute_result"
    }
   ],
   "source": [
    "#считаем для всех строк нового датафрейма\n",
    "new_data['user_month_spent'] = new_data.apply(get_month_user_spent, axis=1)\n",
    "new_data.head(10)"
   ]
  },
  {
   "cell_type": "markdown",
   "id": "df2716e8",
   "metadata": {},
   "source": [
    "После получения информации о выручке было бы интересно посмотреть на её изменения по месяца."
   ]
  },
  {
   "cell_type": "code",
   "execution_count": 52,
   "id": "fe8eb43d",
   "metadata": {},
   "outputs": [
    {
     "data": {
      "image/png": "[encoded data removed]",
      "text/plain": [
       "<Figure size 640x480 with 1 Axes>"
      ]
     },
     "metadata": {},
     "output_type": "display_data"
    }
   ],
   "source": [
    "new_data.pivot_table(\n",
    "    index='month', values='user_month_spent', aggfunc='sum'\n",
    ").plot(kind='bar', grid=True, legend=False, title = 'Общая выручка по месяцам');"
   ]
  },
  {
   "cell_type": "markdown",
   "id": "997d7c68",
   "metadata": {},
   "source": [
    "По графику видно, что самая большая выручка была в мае, июне и январе, а самая маленькая в феврале. (Высокая выручка в январе довольно неожиданная)"
   ]
  },
  {
   "cell_type": "markdown",
   "id": "31f8d602",
   "metadata": {},
   "source": [
    "#### Выводы:\n",
    "- Создан датафрейм с информацией о помесячных затратах пользователей на поездки.\n",
    "- При просмотре всех затрат пользователей было выявлено, что самая высокая выручка у компании GoFast была в мае, июне и январе, а самая маленькая в феврале. "
   ]
  },
  {
   "cell_type": "markdown",
   "id": "220b1818",
   "metadata": {},
   "source": [
    "### Проверка гипотез\n",
    "\n",
    "Продакт-менеджеры сервиса хотят увеличить количество пользователей с подпиской. Для этого они будут проводить различные акции, но сначала нужно выяснить несколько важных моментов.\n",
    "\n",
    "Проверим 4 гипотезы."
   ]
  },
  {
   "cell_type": "markdown",
   "id": "9fc12e74",
   "metadata": {},
   "source": [
    "#### Гипотеза 1\n",
    ">_Важно понять, тратят ли пользователи с подпиской больше времени на поездки? Если да, то пользователи с подпиской могут быть «выгоднее» для компании. Проверьте гипотезу. Используйте исходные данные о продолжительности каждой сессии — отдельно для подписчиков и тех, у кого нет подписки._\n",
    "\n",
    "$H_0$: \"Среднее время, затраченное пользователями с подпиской на поездки, равно среднему времени, затраченному пользователями без подписки.\"  \n",
    "$H_1$: \"Среднее время, затраченное пользователями с подпиской на поездки, больше среднего времени, затраченного пользователями без подписки.\" "
   ]
  },
  {
   "cell_type": "code",
   "execution_count": 53,
   "id": "ea849b2f",
   "metadata": {},
   "outputs": [],
   "source": [
    "#исходные данные о продолжительности каждой сессии — отдельно для подписчиков и тех, у кого нет подписки\n",
    "durations_ultra_ser = all_data.loc[all_data.subscription_type == 'ultra', 'duration']\n",
    "durations_free_ser = all_data.loc[all_data.subscription_type == 'free', 'duration']"
   ]
  },
  {
   "cell_type": "markdown",
   "id": "e8f5ef9a",
   "metadata": {},
   "source": [
    "Теперь можно провести t-тест для сравнения средних двух выборок и проверить гипотезы. "
   ]
  },
  {
   "cell_type": "code",
   "execution_count": 54,
   "id": "c0ec6dbe",
   "metadata": {},
   "outputs": [
    {
     "name": "stdout",
     "output_type": "stream",
     "text": [
      "p-value: 1.2804098316645618e-34\n",
      "Отвергаем нулевую гипотезу\n"
     ]
    }
   ],
   "source": [
    "# задаём уровень значимости\n",
    "alpha = 0.05\n",
    "\n",
    "# проводим ttest для двух выборок, в качестве альтернативной используем одностороннюю гипотезу «больше»\n",
    "results = st.ttest_ind(durations_ultra_ser, durations_free_ser, alternative='greater')\n",
    "\n",
    "print(f'p-value: {results.pvalue}')\n",
    "\n",
    "# проверяем p-value\n",
    "if results.pvalue < alpha:\n",
    "    print('Отвергаем нулевую гипотезу')\n",
    "else:\n",
    "    print('Нет оснований отвергнуть нулевую гипотезу')"
   ]
  },
  {
   "cell_type": "markdown",
   "id": "2b80da35",
   "metadata": {},
   "source": [
    "**Исходя из результата t-теста будем склоняться в пользу альтернативной гипотезы.  \n",
    "Среднее время, затраченное пользователями с подпиской на поездки, больше среднего времени, затраченного пользователями без подписки.**"
   ]
  },
  {
   "cell_type": "markdown",
   "id": "032d77bb",
   "metadata": {},
   "source": [
    "#### Гипотеза 2\n",
    "\n",
    ">_Расстояние одной поездки в 3130 метров — оптимальное с точки зрения износа самоката. Можно ли сказать, что расстояние, которое проезжают пользователи с подпиской за одну поездку, не превышает 3130 метров? Проверьте гипотезу и сделайте выводы._\n",
    "\n",
    "$H_0$: \"Расстояние, которое проезжают пользователи с подпиской за одну поездку составляет 3130 метров.\"  \n",
    "$H_1$: \"Расстояние, которое проезжают пользователи с подпиской за одну поездку больше 3130 метров.\""
   ]
  },
  {
   "cell_type": "code",
   "execution_count": 55,
   "id": "0ab4997b",
   "metadata": {},
   "outputs": [
    {
     "name": "stdout",
     "output_type": "stream",
     "text": [
      "p-value: 0.9195368847849785\n",
      "Не отвергаем нулевую гипотезу\n"
     ]
    }
   ],
   "source": [
    "#Подготовим данные (расстояния всех поездок для пользователей с подпиской ultra)\n",
    "distance_ultra_ser = all_data.loc[all_data.subscription_type == 'ultra', 'distance']\n",
    "\n",
    "#расстояние одной поездки оптимальное с точки зрения износа самоката\n",
    "distance1 = 3130\n",
    "\n",
    "# уровень статистической значимости\n",
    "alpha = 0.05\n",
    "\n",
    "#проведём односторонний тест\n",
    "results = st.ttest_1samp(\n",
    "    distance_ultra_ser, \n",
    "    distance1,\n",
    "    alternative='greater')\n",
    "\n",
    "print(f'p-value: {results.pvalue}')\n",
    "\n",
    "if (results.pvalue < alpha):\n",
    "    print('Отвергаем нулевую гипотезу')\n",
    "else:\n",
    "    print('Не отвергаем нулевую гипотезу')"
   ]
  },
  {
   "cell_type": "markdown",
   "id": "5fe4a934",
   "metadata": {},
   "source": [
    "**Скорее будим придерживаться нулевой гипотезы чем альтернативной.  \n",
    "Поэтому можно сказать, что расстояние, которое проезжают пользователи с подпиской за одну поездку, не превышает 3130 метров.**"
   ]
  },
  {
   "cell_type": "markdown",
   "id": "8bf2f984",
   "metadata": {},
   "source": [
    "#### Гипотеза 3\n",
    "\n",
    ">_Проверьте гипотезу о том, будет ли помесячная выручка от пользователей с подпиской по месяцам выше, чем выручка от пользователей без подписки. Сделайте вывод._\n",
    "\n",
    "$H_0$: \"Средняя помесячная выручка от пользователей с подпиской равна средней помесячной выручке от пользователей без подписки.\"  \n",
    "$H_1$: \"Средняя помесячная выручка от пользователей с подпиской выше, чем средняя помесячная выручка от пользователей без подписки.\""
   ]
  },
  {
   "cell_type": "code",
   "execution_count": 56,
   "id": "c0719adc",
   "metadata": {},
   "outputs": [],
   "source": [
    "#помесячная выручка от пользователей с подпиской ultra\n",
    "spent_ultra_ser = []\n",
    "\n",
    "#помесячная выручка от пользователей без подписки\n",
    "spent_free_ser = []\n",
    "\n",
    "#переберём все строки таблицы с данными о выручке по месяцам\n",
    "for index, row in new_data.iterrows():\n",
    "    user_id = row['user_id']\n",
    "    month_spent = row['user_month_spent']\n",
    "    subscription_type = users_data.loc[users_data['user_id'] == user_id, 'subscription_type']\n",
    "    if (subscription_type.values[0] == 'ultra'):\n",
    "        spent_ultra_ser.append(month_spent)\n",
    "    else:\n",
    "        spent_free_ser.append(month_spent)"
   ]
  },
  {
   "cell_type": "code",
   "execution_count": 57,
   "id": "8078079c",
   "metadata": {},
   "outputs": [
    {
     "name": "stdout",
     "output_type": "stream",
     "text": [
      "p-value: 1.8850394384715216e-31\n",
      "Отвергаем нулевую гипотезу\n"
     ]
    }
   ],
   "source": [
    "# задаём уровень значимости\n",
    "alpha = 0.05\n",
    "\n",
    "# проводим ttest для двух выборок, в качестве альтернативной используем одностороннюю гипотезу «больше»\n",
    "results = st.ttest_ind(spent_ultra_ser, spent_free_ser, alternative='greater')\n",
    "\n",
    "print(f'p-value: {results.pvalue}')\n",
    "\n",
    "# проверяем p-value\n",
    "if results.pvalue < alpha:\n",
    "    print('Отвергаем нулевую гипотезу')\n",
    "else:\n",
    "    print('Нет оснований отвергнуть нулевую гипотезу')"
   ]
  },
  {
   "cell_type": "markdown",
   "id": "b4082d88",
   "metadata": {},
   "source": [
    "**Будем придерживаться гипотезе, что средняя помесячная выручка от пользователей с подпиской выше, чем средняя помесячная выручка от пользователей без подписки.**"
   ]
  },
  {
   "cell_type": "markdown",
   "id": "a74fbdaf",
   "metadata": {},
   "source": [
    "#### Гипотеза 4\n",
    "\n",
    ">_Представьте такую ситуацию: техническая команда сервиса обновила сервера, с которыми взаимодействует мобильное приложение. Она надеется, что из-за этого количество обращений в техподдержку значимо снизилось. Некоторый файл содержит для каждого пользователя данные о количестве обращений до обновления и после него. Какой тест вам понадобился бы для проверки этой гипотезы?_"
   ]
  },
  {
   "cell_type": "markdown",
   "id": "0872cfe6",
   "metadata": {},
   "source": [
    "В такой ситуации нужно проверить гипотезу о равенстве средних для зависимых (парных) выборок.   \n",
    "\n",
    "Нам понадобится метод scipy.stats.ttest_rel, где аргументами являются парные выборки до обновления серверов и после.  \n",
    "\n",
    "$H_0$: \"Количество обращений в техподдержку до и после обновления одинаковые.\"  \n",
    "$H_1$: \"Количество обращений в техподдержку после обновления стало меньше, чем до обновления.\"\n",
    "\n",
    "```python\n",
    "\n",
    "\n",
    "before = [] # количество обращений до обновления (нужно заполнить значения)\n",
    "after = [] # количество обращений после обновления (нужно заполнить значения)\n",
    "\n",
    "alpha = 0.05 # уровень статистической значимости\n",
    "\n",
    "results = st.ttest_rel(before, after, alternative='greater')\n",
    "\n",
    "print('p-значение:', results.pvalue)\n",
    "\n",
    "if results.pvalue < alpha:\n",
    "    print('Отвергаем нулевую гипотезу о равенстве количества обращений')\n",
    "else:\n",
    "    print('Не получилось отвергнуть нулевую гипотезу')\n",
    "```"
   ]
  },
  {
   "cell_type": "markdown",
   "id": "5960d335",
   "metadata": {},
   "source": [
    "### Распределения\n",
    "\n",
    "#### Задача 1\n",
    ">_Отделу маркетинга GoFast поставили задачу: нужно провести акцию с раздачей промокодов на один бесплатный месяц подписки, в рамках которой как минимум 100 существующих клиентов должны продлить эту подписку. То есть по завершении периода действия подписки пользователь может либо отказаться от неё, либо продлить, совершив соответствующий платёж._   \n",
    "_Эта акция уже проводилась ранее и по итогу выяснилось, что после бесплатного пробного периода подписку продлевают 10 % пользователей. Выясните, какое минимальное количество промокодов нужно разослать, чтобы вероятность не выполнить план была примерно 5%. Подберите параметры распределения, описывающего эту ситуацию, постройте график распределения и сформулируйте ответ на вопрос о количестве промокодов._"
   ]
  },
  {
   "cell_type": "markdown",
   "id": "e3b44d80",
   "metadata": {},
   "source": [
    "Данную ситуацию хорошо описывает биномиальное распределение. Т.к. есть N независимых экспериментов и 2 исхода: успех (подписку продлили), неудача (отказ от подписки).\n",
    "\n",
    "    - вероятность успеха p = 0.1 (по условию) => вероятность неудачи (1 - p) = 0.9\n",
    "    - N = ? число попыток (кол-во раздаваемых промкодов) \n",
    "    - k >= 100 (необходимо получить как минимум 100 успехов)\n",
    "    - Найти: min(N) при котором p(неудачи) = 0.05 (т.е. p(успеха) = 1 - 0,05 = 95%)\n",
    "\n",
    "Воспользуемся методом binom.cdf() из модуля `scipy.stats`\n",
    "Найдём N при помощи перебора."
   ]
  },
  {
   "cell_type": "code",
   "execution_count": 58,
   "id": "7f1b73b4",
   "metadata": {},
   "outputs": [
    {
     "name": "stdout",
     "output_type": "stream",
     "text": [
      "для N = 1160 вероятность,что успешно продлят подписку > 99 пользователей: 94.93%\n",
      "для N = 1161 вероятность,что успешно продлят подписку > 99 пользователей: 95.02%\n"
     ]
    }
   ],
   "source": [
    "p = 0.1 # вероятность успеха\n",
    "k = 100 - 1\n",
    "cdf_res = 0.95\n",
    "n1 = 0\n",
    "\n",
    "for n in range(1, 15):\n",
    "    val = 1 - st.binom.cdf(k, n*100, p)\n",
    "    if val > cdf_res:\n",
    "        n1 = n;\n",
    "        break;\n",
    "        \n",
    "for n in range((n1 - 1) * 100, n1 * 100):\n",
    "    val = 1 - st.binom.cdf(k, n, p)\n",
    "    if val > cdf_res:\n",
    "        n1 = n\n",
    "        break;\n",
    "        \n",
    "print(f'для N = {n1 - 1} вероятность,'\n",
    "      f'что успешно продлят подписку > {k} пользователей: {(1 - st.binom.cdf(k, (n1 - 1), p)):.2%}')\n",
    "print(f'для N = {n1} вероятность,'\n",
    "      f'что успешно продлят подписку > {k} пользователей: {(1 - st.binom.cdf(k, n1, p)):.2%}')"
   ]
  },
  {
   "cell_type": "markdown",
   "id": "ccf6c15f",
   "metadata": {},
   "source": [
    "Построим график биномиального распределений.\n",
    "По горизонтальной оси отложим возможное число успехов, а по вертикальной — вероятность соответствующего исхода."
   ]
  },
  {
   "cell_type": "code",
   "execution_count": 59,
   "id": "e8cadfc5",
   "metadata": {},
   "outputs": [
    {
     "name": "stderr",
     "output_type": "stream",
     "text": [
      "/home/anna/anaconda3/envs/practicum/lib/python3.9/site-packages/scipy/stats/_discrete_distns.py:69: RuntimeWarning: divide by zero encountered in _binom_pdf\n",
      "  return _boost._binom_pdf(x, n, p)\n"
     ]
    },
    {
     "data": {
      "image/png": "[encoded data removed]",
      "text/plain": [
       "<Figure size 640x480 with 1 Axes>"
      ]
     },
     "metadata": {},
     "output_type": "display_data"
    }
   ],
   "source": [
    "np.errstate(divide='ignore')\n",
    "n = 1161 # количество попыток\n",
    "p = 0.1 # вероятность успеха\n",
    "\n",
    "distr = []\n",
    "\n",
    "for k in range(0, n + 1):\n",
    "    current_value = binom.pmf(k, n, p)\n",
    "    distr.append(current_value)\n",
    "  \n",
    "plt.bar(range(0, n + 1), distr);"
   ]
  },
  {
   "cell_type": "markdown",
   "id": "b1b97433",
   "metadata": {},
   "source": [
    "**Нужно разослать 1161 промокодов, чтобы вероятность не выполнить план была примерно 5%.**"
   ]
  },
  {
   "cell_type": "markdown",
   "id": "6d2cc6d7",
   "metadata": {},
   "source": [
    "#### Задача 2\n",
    ">_Отдел маркетинга рассылает клиентам push-уведомления в мобильном приложении. Клиенты могут открыть его или не открывать. Известно, что уведомления открывают около 40% получивших клиентов. Отдел планирует разослать 1 млн уведомлений. С помощью аппроксимации постройте примерный график распределения и оцените вероятность того, что уведомление откроют не более 399,5 тыс. пользователей._"
   ]
  },
  {
   "cell_type": "markdown",
   "id": "285e4745",
   "metadata": {},
   "source": [
    "Эта ситуация тоже описывается биномиальным распределением.\n",
    "- Если пользователь открыл уведобление, то успех (p = 0.4)\n",
    "- Если не открыл, то неудача (1 - p = 0.6)\n",
    "\n",
    "Но считать каждое отдельное значение достаточно долго. Мы можем воспользоваться нормальной аппроксимацией биномиального распределения и `cdf()` для быстрой оценки."
   ]
  },
  {
   "cell_type": "code",
   "execution_count": 60,
   "id": "6f5a267c",
   "metadata": {},
   "outputs": [
    {
     "name": "stdout",
     "output_type": "stream",
     "text": [
      "0.15371708296369768\n"
     ]
    }
   ],
   "source": [
    "# задаём параметры биномиального распределения\n",
    "n = 1000000 #кол-во разосланных уведоблений (по усл.)\n",
    "p = 0.4 #вероятность успеха (открытия уведомления)\n",
    "\n",
    "# зададим мат.ожидание и ст.отклонение нормального распределения равными\n",
    "# мат.ожиданию и ст.отклонению биномиального распределения\n",
    "mu = n * p\n",
    "sigma = sqrt(n * p * (1 - p))\n",
    "\n",
    "# задаём нормальное распределение\n",
    "distr = st.norm(mu, sigma) \n",
    "\n",
    "# считаем вероятность хвоста слева от 399,5 тысяч\n",
    "result = distr.cdf(399500)\n",
    "print(result)"
   ]
  },
  {
   "cell_type": "markdown",
   "id": "1e7159fe",
   "metadata": {},
   "source": [
    "**Вероятность того, что уведомление откроют не более 399,5 тыс. пользователей составляет около 15.4%.**"
   ]
  },
  {
   "cell_type": "markdown",
   "id": "3d8cd7bc",
   "metadata": {},
   "source": [
    "### Общий вывод\n",
    "\n",
    "1. Все данные из трёх csv-файлов были выгружены корректно.\n",
    "2. При обраблотки данных:\n",
    "    - Дата была успешно приведена к типи datetime\n",
    "    - Было обнаружено и удалено 31 дубликат.\n",
    "    - Пропущенных значений во всех 3-х датафреймах не обнаружено.\n",
    "    - Было выявлено, что информация в датафрейме собрана только по 2021 году.\n",
    "3. При исследование данных было выявлено:\n",
    "    - Нам представлена информация о пользователях из 8 городов.\n",
    "    - Больше всего пользователей из Пятигорска, меньше всего из Москвы, но в целом доли пользователей разделены между 8 городами равномерно.\n",
    "    - Доля пользователей без подписки больше, чем с подпиской на 8.8%\n",
    "    - Возраст пользователей находится на отрезке от 12 до 43 лет.\n",
    "    - Больше всего пользователей с возрастом 25 лет. Количество пользователей возрастает при увеличении возраста от 12 до 25 и убывает от 25 до 43.\n",
    "    - Чаще всего пользователи за один раз проезжают от 2.2 и до 4.2 км.\n",
    "    - У пользователей чаще всего одна сессия длится от 10 до 25 минут.\n",
    "    - Были удалены 95 поездок с некорректными данными. В значении 30 секунд был выявлен аномальный всплеск, и при проверке значений было обнаружено, что пользователю невозможно преодалеть указанное в датафрейме растояние за это время.\n",
    "4. При просмотре информации о расстоянии и времени поездок для пользователей с подпиской и без подписки было выявлено:\n",
    "    - Пользователей с подпиской меньше чем без подписки.\n",
    "    - Медианные значения растояний у пользователей с подпиской и без не сильно отличаются и составляют чуть больше 3 км. \n",
    "    - Медианное время поездок у пользователей с подпиской и без различаются всего на 1 минуту (у пользователей с подпиской чуть больше), и составляет около 18 минут.\n",
    "    - Диапазоны разброса значений для расстояния и времени поездок у пользователей без подписки больше, чем у пользователей с подпиской.\n",
    "5. Была посчитана помесячная выручка:\n",
    "    - При просмотре всех затрат пользователей было выявлено, что самая высокая выручка у компании GoFast была в мае, июне и январе, а самая маленькая в феврале.\n",
    "6. Было рассмотрено несколько гипотез и произведён для них t-тест, на основании итогов к которому мы выбрали гипотезы в пользу которых будем склоняться:\n",
    "    - Среднее время, затраченное пользователями с подпиской на поездки, больше среднего времени, затраченного пользователями без подписки.\n",
    "    - Расстояние, которое проезжают пользователи с подпиской за одну поездку, не превышает 3130 метров.\n",
    "    - Средняя помесячная выручка от пользователей с подпиской выше, чем средняя помесячная выручка от пользователей без подписки.\n",
    "7. Рекомендации:\n",
    "- Обратить внимание на 95 поездок пользователей без подписки, время поездок которых было 30 секунд, а расстояние слишком большое. Это мог быть некорректный ввод информации, проведение какой-то акции результаты которой так записали, сбой ПО и т.п.\n",
    "- Рекомендуется увеличить число пользователей с подпиской, в связи с тем, что:\n",
    "    - Мы приняли гипотезу о том, что средняя помесячная выручка от пользователей с подпиской выше, чем средняя помесячная выручка от пользователей без подписки.\n",
    "    - Расстояние одной поездки в 3130 метров — оптимальное с точки зрения износа самоката. И мы принали гипотезу о том, что расстояние, которое проезжают пользователи с подпиской за одну поездку, не превышает 3130 метров. \n",
    "    - Пользователи с подпиской больше по времени используют самокаты. Т.к. мы приняли гипотезу о том, что среднее время, затраченное пользователями с подпиской на поездки, больше среднего времени, затраченного пользователями без подписки.\n",
    "- Основная часть пользователей возрастом от 22 до 28 лет, поэтому они являются основной целовой категорией."
   ]
  },
  {
   "cell_type": "code",
   "execution_count": null,
   "id": "ca33b297",
   "metadata": {},
   "outputs": [],
   "source": []
  }
 ],
 "metadata": {
  "kernelspec": {
   "display_name": "Python 3 (ipykernel)",
   "language": "python",
   "name": "python3"
  },
  "language_info": {
   "codemirror_mode": {
    "name": "ipython",
    "version": 3
   },
   "file_extension": ".py",
   "mimetype": "text/x-python",
   "name": "python",
   "nbconvert_exporter": "python",
   "pygments_lexer": "ipython3",
   "version": "3.9.18"
  },
  "toc": {
   "base_numbering": 1,
   "nav_menu": {},
   "number_sections": true,
   "sideBar": true,
   "skip_h1_title": true,
   "title_cell": "Table of Contents",
   "title_sidebar": "Contents",
   "toc_cell": true,
   "toc_position": {},
   "toc_section_display": true,
   "toc_window_display": false
  }
 },
 "nbformat": 4,
 "nbformat_minor": 5
}
